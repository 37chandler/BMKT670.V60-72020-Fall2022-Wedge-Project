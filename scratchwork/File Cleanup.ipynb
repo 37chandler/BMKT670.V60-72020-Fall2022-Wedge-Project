{
 "cells": [
  {
   "cell_type": "markdown",
   "id": "064e286a",
   "metadata": {},
   "source": [
    "# The Wedge\n",
    "\n",
    "## Task 1: Building a Transaction Database in Google Big Query!\n"
   ]
  },
  {
   "cell_type": "markdown",
   "id": "b1042811",
   "metadata": {},
   "source": [
    "## Python Modules"
   ]
  },
  {
   "cell_type": "code",
   "execution_count": 93,
   "id": "51ddf7aa",
   "metadata": {},
   "outputs": [],
   "source": [
    "import os\n",
    "import io\n",
    "import shutil\n",
    "import re\n",
    "import datetime \n",
    "import csv\n",
    "\n",
    "import pandas as pd\n",
    "import numpy as np\n",
    "import pandas_gbq\n",
    "import janitor\n",
    "\n",
    "from zipfile import ZipFile # usually you'd do all these imports at the beginning\n",
    "\n",
    "# Do our imports for the code\n",
    "from google.cloud import bigquery\n",
    "from google.oauth2 import service_account"
   ]
  },
  {
   "cell_type": "markdown",
   "id": "53dfe6b9",
   "metadata": {},
   "source": [
    "## Define Global Variables"
   ]
  },
  {
   "cell_type": "code",
   "execution_count": 83,
   "id": "c73e4faf",
   "metadata": {},
   "outputs": [],
   "source": [
    "# # Small File Sample\n",
    "zip_file_name = \"WedgeZipOfZips_Small.zip\"\n",
    "\n",
    "## Full data Set\n",
    "# zip_file_name = \"WedgeZipOfZips.zip\"\n",
    "\n",
    "# Clean data Set\n",
    "# zip_file_name = \"WedgeFiles_Clean.zip\"\n",
    "\n",
    "# Small Clean Data Set\n",
    "# zip_file_name = \"WedgeZipOfZips_Small_Clean.zip\"\n",
    "\n",
    "# Working Directory included in .gitignore\n",
    "working_directory = \"/media/psf/Home/Repos/BMKT670.V60-72020-Fall2022-Wedge-Project/eggs/\""
   ]
  },
  {
   "cell_type": "markdown",
   "id": "7d4d69d3",
   "metadata": {},
   "source": [
    "## Define Functions"
   ]
  },
  {
   "cell_type": "code",
   "execution_count": 115,
   "id": "08a81062",
   "metadata": {},
   "outputs": [],
   "source": [
    "def extract_zip(zf):\n",
    "    # printing what's in the zip file.  \n",
    "    # zf.printdir() \n",
    "\n",
    "    # extracting all the files \n",
    "    print('Extracting all the files now...') \n",
    "    # pick a folder name already in .gitignore\n",
    "    \n",
    "    # Instead of always extracting ALL, check if file exists first\n",
    "    # zf.extractall(working_directory) \n",
    "    \n",
    "    zipped_files = zf.namelist()\n",
    "    # display_zip_contents(zipped_files)\n",
    "    \n",
    "    # Only extract files if they don't exist\n",
    "    for file_name in zipped_files :\n",
    "        \n",
    "        # Ignore .DS_Store hidden files\n",
    "        if(file_name.endswith( '.DS_Store' )):\n",
    "            continue\n",
    "            \n",
    "        # Ignore __MACOSX hidden files\n",
    "        if(file_name.startswith( '__' )):\n",
    "            continue\n",
    "        \n",
    "        # Ignore folders\n",
    "        if(file_name.endswith( '/' )):\n",
    "            continue\n",
    "        \n",
    "        if os.path.exists(working_directory + file_name) :\n",
    "            print(\"File Exists, skipping\")\n",
    "            print(file_name)\n",
    "        else :\n",
    "            print(\"Need to Extract\")\n",
    "            print(file_name)\n",
    "            zf.extract(file_name, working_directory) \n",
    "        \n",
    "        zip_files.append(file_name)\n",
    "        \n",
    "def extract_single_zip(zf):\n",
    "    zipped_files = zf.namelist()\n",
    "    # display_zip_contents(zipped_files)\n",
    "    \n",
    "    # Only extract files if they don't exist\n",
    "    for file_name in zipped_files :\n",
    "        \n",
    "        # Ignore .DS_Store hidden files\n",
    "        if(file_name.endswith( '.DS_Store' )):\n",
    "            continue\n",
    "            \n",
    "        # Ignore __MACOSX hidden files\n",
    "        if(file_name.startswith( '__' )):\n",
    "            continue\n",
    "        \n",
    "        # Ignore folders\n",
    "        if(file_name.endswith( '/' )):\n",
    "            continue\n",
    "        \n",
    "        if os.path.exists(working_directory + file_name) :\n",
    "            print(\"File Exists, skipping\")\n",
    "            print(file_name)\n",
    "        else :\n",
    "            print(\"Need to Extract\")\n",
    "            print(file_name)\n",
    "            zf.extract(file_name, working_directory) \n",
    "        \n",
    "        data_files.append(file_name)\n",
    "\n",
    "\n",
    "def display_zip_contents(zipped_files):\n",
    "    for file_name in zipped_files :\n",
    "        # Ignore __MACOSX hidden files\n",
    "        if(file_name.startswith( '__' )):\n",
    "            continue\n",
    "        # Ignore .DS_Store hidden files\n",
    "        if(file_name.endswith( '.DS_Store' )):\n",
    "            continue\n",
    "        # Ignore folders\n",
    "        if(file_name.endswith( '/' )):\n",
    "            continue\n",
    "\n",
    "        print(\"File: \", file_name,\" Size:\", os.path.getsize(working_directory+file_name))\n",
    "\n",
    "def display_file_contents(files):\n",
    "    for file_name in files :\n",
    "        # Ignore __MACOSX hidden files\n",
    "        if(file_name.startswith( '__' )):\n",
    "            continue\n",
    "        # Ignore .DS_Store hidden files\n",
    "        if(file_name.endswith( '.DS_Store' )):\n",
    "            continue\n",
    "        # Ignore folders\n",
    "        if(file_name.endswith( '/' )):\n",
    "            continue\n",
    "\n",
    "        print(\"File: \", file_name,\" Size:\", os.path.getsize(working_directory+file_name))\n",
    "\n",
    "def get_delimiter(file_name) :\n",
    "    # Get separator\n",
    "    input_file = open(working_directory+file_name,'r')\n",
    "    # input_file = io.TextIOWrapper(input_file,encoding=\"utf-8\")\n",
    "            \n",
    "    dialect = csv.Sniffer().sniff(sample=input_file.readline(),\n",
    "                                  delimiters=[\",\",\";\",\"\\t\"])\n",
    "    delimiter = dialect.delimiter\n",
    "    # delimiters[file_name] = dialect.delimiter\n",
    "\n",
    "    #     print(\" \".join([\"It looks like\",\n",
    "    #                    file_name,\n",
    "    #                    \"has delimiter\",\n",
    "    #                    dialect.delimiter,\n",
    "    #                    \".\"]))\n",
    "    input_file.close() # tidy up\n",
    "    return delimiter\n",
    "\n",
    "def get_header(file_name) :\n",
    "    \n",
    "    with open(working_directory+file_name) as f:\n",
    "        first_line = f.readline()\n",
    "        # print(first_line)\n",
    "        if first_line.startswith('datetime') :\n",
    "            return 0\n",
    "        if first_line.startswith('\"datetime\"') :\n",
    "            return 0\n",
    "        if first_line.startswith(\"'datetime'\") :\n",
    "            return 0\n",
    "        else :\n",
    "            return None\n",
    "\n",
    "def upload_data(data):\n",
    "    # https://stackoverflow.com/a/24083253\n",
    "    grouped = data.groupby(pd.Grouper(freq='M'))\n",
    "    for name, group in grouped:\n",
    "\n",
    "        # Construct table name from index\n",
    "        # table_name = \"dram_items_\"+reformat_date(name.strftime('%Y-%m-%d'))\n",
    "\n",
    "        # 3. For each month in the file, subset the data to that month and \n",
    "        #    upload the data to a table called `dram_items_YYYYMM01`. \n",
    "        # table_id = \".\".join([gbq_proj_id,dataset_id,table_name])\n",
    "        # print(table_id)\n",
    "        # pandas_gbq.to_gbq(item_lu, table_id, project_id=gbq_proj_id,if_exists=\"replace\") # let's discuss this last bit\n",
    "        print(\"Data Uploaded!\")\n",
    "        \n",
    "def cleanup_data(data): \n",
    "    # Clean the names with the janitor package.\n",
    "    data = janitor.clean_names(data)\n",
    "\n",
    "#     for column in ( 'gross_sales', 'discounts', 'net_sales', 'tax' ):\n",
    "#         # Convert the fields that have dollar signs (such as `gross_sales`) into numeric data. Watch out for dollar signs and commas.\n",
    "#         data[column] = ( data[column]\n",
    "#                            .str.replace(\"$\", '', regex=False)\n",
    "#                            .str.replace(\",\", '', regex=False)\n",
    "#                            .astype(float) )\n",
    "\n",
    "    # Change the type of the column `modifiers_applied` to string.\n",
    "#     data['modifiers_applied'] = data['modifiers_applied'].astype(str)\n",
    "\n",
    "    # Replace the `sku` column with a column of empty strings. \n",
    "#     data['sku'] = ''\n",
    "\n",
    "    # print( item_lu.head() )\n",
    "#     data.index = pd.to_datetime(data['date']) # ,format='%y-%m-%d'  \n",
    "    return data\n",
    "        \n"
   ]
  },
  {
   "cell_type": "markdown",
   "id": "bae479cd",
   "metadata": {},
   "source": [
    "## GBQ Setup"
   ]
  },
  {
   "cell_type": "code",
   "execution_count": 82,
   "id": "5300a9d4",
   "metadata": {},
   "outputs": [],
   "source": [
    "# These first two values will be different on your machine. \n",
    "# service_path = \"/Users/chandler/Dropbox/Teaching/\"\n",
    "# service_file = 'umt-msba-037daf11ee16.json' # change this to your authentication information  \n",
    "# gbq_proj_id = 'umt-msba' # change this to your project. \n",
    "service_path = \"/media/psf/Home/Repos/\"\n",
    "service_file = 'bmkt670-fall2022-wedge-project-6ce4398b80e4.json' # change this to your authentication information  \n",
    "gbq_proj_id = 'bmkt670-fall2022-wedge-project' # change this to your project. \n",
    "dataset_id = 'wedgedataset'\n",
    "\n",
    "# And this should stay the same. \n",
    "private_key = service_path + service_file\n",
    "\n",
    "# Now we pass in our credentials so that Python has permission to access our project.\n",
    "credentials = service_account.Credentials.from_service_account_file(service_path + service_file)\n",
    "\n",
    "# And finally we establish our connection\n",
    "client = bigquery.Client(credentials = credentials, project=gbq_proj_id)\n",
    "\n",
    "# for item in client.list_datasets() : \n",
    "#     print(item.full_dataset_id)"
   ]
  },
  {
   "cell_type": "markdown",
   "id": "d408ddf7",
   "metadata": {},
   "source": [
    "## Phase 1, Upload Clean Files"
   ]
  },
  {
   "cell_type": "code",
   "execution_count": 84,
   "id": "72b49f7a",
   "metadata": {},
   "outputs": [
    {
     "name": "stdout",
     "output_type": "stream",
     "text": [
      "Extracting all the files now...\n",
      "Need to Extract\n",
      "WedgeZipOfZips/transArchive_201310_201312_small.zip\n",
      "Need to Extract\n",
      "WedgeZipOfZips/transArchive_201207_201209_small.zip\n",
      "Need to Extract\n",
      "WedgeZipOfZips/transArchive_201204_201206_inactive_small.zip\n",
      "Need to Extract\n",
      "WedgeZipOfZips/transArchive_201304_201306_inactive_small.zip\n",
      "Need to Extract\n",
      "WedgeZipOfZips/transArchive_201007_201009_small.zip\n",
      "Need to Extract\n",
      "WedgeZipOfZips/transArchive_201105_small.zip\n",
      "Need to Extract\n",
      "WedgeZipOfZips/transArchive_201110_201112_small.zip\n",
      "Need to Extract\n",
      "WedgeZipOfZips/transArchive_201304_201306_small.zip\n",
      "Need to Extract\n",
      "WedgeZipOfZips/transArchive_201404_201406_inactive_small.zip\n",
      "Need to Extract\n",
      "WedgeZipOfZips/transArchive_201504_201506_small.zip\n",
      "Need to Extract\n",
      "WedgeZipOfZips/transArchive_201612_small.zip\n",
      "Need to Extract\n",
      "WedgeZipOfZips/transArchive_201606_small.zip\n",
      "Need to Extract\n",
      "WedgeZipOfZips/transArchive_201401_201403_inactive_small.zip\n",
      "Need to Extract\n",
      "WedgeZipOfZips/transArchive_201407_201409_small.zip\n",
      "Need to Extract\n",
      "WedgeZipOfZips/transArchive_201201_201203_inactive_small.zip\n",
      "Need to Extract\n",
      "WedgeZipOfZips/transArchive_201301_201303_inactive_small.zip\n",
      "Need to Extract\n",
      "WedgeZipOfZips/transArchive_201310_201312_inactive_small.zip\n",
      "Need to Extract\n",
      "WedgeZipOfZips/transArchive_201107_201109_small.zip\n",
      "Need to Extract\n",
      "WedgeZipOfZips/transArchive_201601_small.zip\n",
      "Need to Extract\n",
      "WedgeZipOfZips/transArchive_201210_201212_inactive_small.zip\n",
      "Need to Extract\n",
      "WedgeZipOfZips/transArchive_201010_201012_small.zip\n",
      "Need to Extract\n",
      "WedgeZipOfZips/transArchive_201204_201206_small.zip\n",
      "Need to Extract\n",
      "WedgeZipOfZips/transArchive_201410_201412_inactive_small.zip\n",
      "Need to Extract\n",
      "WedgeZipOfZips/transArchive_201210_201212_small.zip\n",
      "Need to Extract\n",
      "WedgeZipOfZips/transArchive_201104_small.zip\n",
      "Need to Extract\n",
      "WedgeZipOfZips/transArchive_201307_201309_small.zip\n",
      "Need to Extract\n",
      "WedgeZipOfZips/transArchive_201512_small.zip\n",
      "Need to Extract\n",
      "WedgeZipOfZips/transArchive_201004_201006_small.zip\n",
      "Need to Extract\n",
      "WedgeZipOfZips/transArchive_201207_201209_inactive_small.zip\n",
      "Need to Extract\n",
      "WedgeZipOfZips/transArchive_201307_201309_inactive_small.zip\n",
      "Need to Extract\n",
      "WedgeZipOfZips/transArchive_201507_201509_small.zip\n",
      "Need to Extract\n",
      "WedgeZipOfZips/transArchive_201607_small.zip\n",
      "Need to Extract\n",
      "WedgeZipOfZips/transArchive_201410_201412_small.zip\n",
      "Need to Extract\n",
      "WedgeZipOfZips/transArchive_201404_201406_small.zip\n",
      "Need to Extract\n",
      "WedgeZipOfZips/transArchive_201407_201409_inactive_small.zip\n",
      "Need to Extract\n",
      "WedgeZipOfZips/transArchive_201602_small.zip\n",
      "Need to Extract\n",
      "WedgeZipOfZips/transArchive_201301_201303_small.zip\n",
      "Need to Extract\n",
      "WedgeZipOfZips/transArchive_201101_201103_small.zip\n",
      "Need to Extract\n",
      "WedgeZipOfZips/transArchive_201511_small.zip\n",
      "Need to Extract\n",
      "WedgeZipOfZips/transArchive_201610_small.zip\n",
      "Need to Extract\n",
      "WedgeZipOfZips/transArchive_201604_small.zip\n",
      "Need to Extract\n",
      "WedgeZipOfZips/transArchive_201501_201503_small.zip\n",
      "Need to Extract\n",
      "WedgeZipOfZips/transArchive_201609_small.zip\n",
      "Need to Extract\n",
      "WedgeZipOfZips/transArchive_201001_201003_small.zip\n",
      "Need to Extract\n",
      "WedgeZipOfZips/transArchive_201603_small.zip\n",
      "Need to Extract\n",
      "WedgeZipOfZips/transArchive_201106_small.zip\n",
      "Need to Extract\n",
      "WedgeZipOfZips/transArchive_201201_201203_small.zip\n",
      "Need to Extract\n",
      "WedgeZipOfZips/transArchive_201510_small.zip\n",
      "Need to Extract\n",
      "WedgeZipOfZips/transArchive_201605_small.zip\n",
      "Need to Extract\n",
      "WedgeZipOfZips/transArchive_201401_201403_small.zip\n",
      "Need to Extract\n",
      "WedgeZipOfZips/transArchive_201611_small.zip\n",
      "Need to Extract\n",
      "WedgeZipOfZips/transArchive_201608_small.zip\n",
      "Need to Extract\n",
      "WedgeZipOfZips/transArchive_201701_small.zip\n",
      "Done Extracting!\n",
      "Done building file list\n"
     ]
    }
   ],
   "source": [
    "# In this cell, do the following: \n",
    "\n",
    "# Master list of all data files\n",
    "zip_files = []\n",
    "\n",
    "with ZipFile( zip_file_name, 'r') as zf : \n",
    "    extract_zip(zf)\n",
    "    print('Done Extracting!')\n",
    "    \n",
    "\n",
    "print(\"Done building file list\")\n",
    "                "
   ]
  },
  {
   "cell_type": "markdown",
   "id": "7d5b665c",
   "metadata": {},
   "source": [
    "## Verify ZIP Files"
   ]
  },
  {
   "cell_type": "code",
   "execution_count": 42,
   "id": "ce4809c8",
   "metadata": {},
   "outputs": [
    {
     "name": "stdout",
     "output_type": "stream",
     "text": [
      "File:  WedgeZipOfZips/transArchive_201410_201412.zip  Size: 1127\n",
      "File:  WedgeZipOfZips/transArchive_201301_201303_inactive.zip  Size: 1209\n",
      "File:  WedgeZipOfZips/transArchive_201210_201212.zip  Size: 1052\n",
      "File:  WedgeZipOfZips/transArchive_201609.zip  Size: 1084\n",
      "File:  WedgeZipOfZips/transArchive_201608.zip  Size: 1104\n",
      "File:  WedgeZipOfZips/transArchive_201201_201203.zip  Size: 1125\n",
      "File:  WedgeZipOfZips/transArchive_201204_201206.zip  Size: 1099\n",
      "File:  WedgeZipOfZips/transArchive_201407_201409.zip  Size: 1142\n",
      "File:  WedgeZipOfZips/transArchive_201207_201209.zip  Size: 1162\n",
      "File:  WedgeZipOfZips/transArchive_201404_201406.zip  Size: 1052\n",
      "File:  WedgeZipOfZips/transArchive_201401_201403.zip  Size: 1109\n",
      "File:  WedgeZipOfZips/transArchive_201404_201406_inactive.zip  Size: 1169\n",
      "File:  WedgeZipOfZips/transArchive_201210_201212_inactive.zip  Size: 1177\n",
      "File:  WedgeZipOfZips/transArchive_201307_201309_inactive.zip  Size: 1133\n",
      "File:  WedgeZipOfZips/transArchive_201501_201503.zip  Size: 1101\n",
      "File:  WedgeZipOfZips/transArchive_201307_201309.zip  Size: 1201\n",
      "File:  WedgeZipOfZips/transArchive_201504_201506.zip  Size: 1153\n",
      "File:  WedgeZipOfZips/transArchive_201304_201306.zip  Size: 1171\n",
      "File:  WedgeZipOfZips/transArchive_201507_201509.zip  Size: 1062\n",
      "File:  WedgeZipOfZips/transArchive_201301_201303.zip  Size: 985\n",
      "File:  WedgeZipOfZips/transArchive_201204_201206_inactive.zip  Size: 1147\n",
      "File:  WedgeZipOfZips/transArchive_201410_201412_inactive.zip  Size: 1169\n",
      "File:  WedgeZipOfZips/transArchive_201310_201312.zip  Size: 1114\n",
      "File:  WedgeZipOfZips/transArchive_201106.zip  Size: 1087\n",
      "File:  WedgeZipOfZips/transArchive_201110_201112.zip  Size: 1114\n",
      "File:  WedgeZipOfZips/transArchive_201701.zip  Size: 975\n",
      "File:  WedgeZipOfZips/transArchive_201310_201312_inactive.zip  Size: 1083\n",
      "File:  WedgeZipOfZips/transArchive_201105.zip  Size: 1075\n",
      "File:  WedgeZipOfZips/transArchive_201104.zip  Size: 1080\n",
      "File:  WedgeZipOfZips/transArchive_201510.zip  Size: 1116\n",
      "File:  WedgeZipOfZips/transArchive_201201_201203_inactive.zip  Size: 1178\n",
      "File:  WedgeZipOfZips/transArchive_201101_201103.zip  Size: 1131\n",
      "File:  WedgeZipOfZips/transArchive_201107_201109.zip  Size: 1075\n",
      "File:  WedgeZipOfZips/transArchive_201511.zip  Size: 1155\n",
      "File:  WedgeZipOfZips/transArchive_201407_201409_inactive.zip  Size: 1140\n",
      "File:  WedgeZipOfZips/transArchive_201512.zip  Size: 1116\n",
      "File:  WedgeZipOfZips/transArchive_201603.zip  Size: 972\n",
      "File:  WedgeZipOfZips/transArchive_201304_201306_inactive.zip  Size: 1141\n",
      "File:  WedgeZipOfZips/transArchive_201602.zip  Size: 1060\n",
      "File:  WedgeZipOfZips/transArchive_201007_201009.zip  Size: 1100\n",
      "File:  WedgeZipOfZips/transArchive_201001_201003.zip  Size: 1129\n",
      "File:  WedgeZipOfZips/transArchive_201601.zip  Size: 1133\n",
      "File:  WedgeZipOfZips/transArchive_201004_201006.zip  Size: 1140\n",
      "File:  WedgeZipOfZips/transArchive_201207_201209_inactive.zip  Size: 1133\n",
      "File:  WedgeZipOfZips/transArchive_201605.zip  Size: 1111\n",
      "File:  WedgeZipOfZips/transArchive_201611.zip  Size: 1180\n",
      "File:  WedgeZipOfZips/transArchive_201610.zip  Size: 961\n",
      "File:  WedgeZipOfZips/transArchive_201604.zip  Size: 1083\n",
      "File:  WedgeZipOfZips/transArchive_201612.zip  Size: 1104\n",
      "File:  WedgeZipOfZips/transArchive_201606.zip  Size: 1148\n",
      "File:  WedgeZipOfZips/transArchive_201010_201012.zip  Size: 1120\n",
      "File:  WedgeZipOfZips/transArchive_201401_201403_inactive.zip  Size: 1147\n",
      "File:  WedgeZipOfZips/transArchive_201607.zip  Size: 1107\n",
      "File:  transArchive_201410_201412.csv  Size: 2331\n",
      "File:  transArchive_201301_201303_inactive.csv  Size: 2491\n",
      "File:  transArchive_201210_201212.csv  Size: 2341\n",
      "File:  transArchive_201609.csv  Size: 2306\n",
      "File:  transArchive_201608.csv  Size: 2307\n",
      "File:  transArchive_201201_201203.csv  Size: 2399\n",
      "File:  transArchive_201204_201206.csv  Size: 2362\n",
      "File:  transArchive_201407_201409.csv  Size: 2419\n",
      "File:  transArchive_201207_201209.csv  Size: 2419\n",
      "File:  transArchive_201404_201406.csv  Size: 2378\n",
      "File:  transArchive_201401_201403.csv  Size: 2398\n",
      "File:  transArchive_201404_201406_inactive.csv  Size: 2439\n",
      "File:  transArchive_201210_201212_inactive.csv  Size: 2509\n",
      "File:  transArchive_201307_201309_inactive.csv  Size: 2427\n",
      "File:  transArchive_201501_201503.csv  Size: 2284\n",
      "File:  transArchive_201307_201309.csv  Size: 2550\n",
      "File:  transArchive_201504_201506.csv  Size: 2369\n",
      "File:  transArchive_201304_201306.csv  Size: 2460\n",
      "File:  transArchive_201507_201509.csv  Size: 2245\n",
      "File:  transArchive_201301_201303.csv  Size: 2292\n",
      "File:  transArchive_201204_201206_inactive.csv  Size: 2416\n",
      "File:  transArchive_201410_201412_inactive.csv  Size: 2429\n",
      "File:  transArchive_201310_201312.csv  Size: 2347\n",
      "File:  transArchive_201106.csv  Size: 2370\n",
      "File:  transArchive_201110_201112.csv  Size: 2385\n",
      "File:  transArchive_201701.csv  Size: 2167\n",
      "File:  transArchive_201310_201312_inactive.csv  Size: 2296\n",
      "File:  transArchive_201105.csv  Size: 2369\n",
      "File:  transArchive_201104.csv  Size: 2333\n",
      "File:  transArchive_201510.csv  Size: 2287\n",
      "File:  transArchive_201201_201203_inactive.csv  Size: 2486\n",
      "File:  transArchive_201101_201103.csv  Size: 2393\n",
      "File:  transArchive_201107_201109.csv  Size: 2357\n",
      "File:  transArchive_201511.csv  Size: 2365\n",
      "File:  transArchive_201407_201409_inactive.csv  Size: 2416\n",
      "File:  transArchive_201512.csv  Size: 2340\n",
      "File:  transArchive_201603.csv  Size: 2160\n",
      "File:  transArchive_201304_201306_inactive.csv  Size: 2395\n",
      "File:  transArchive_201602.csv  Size: 2279\n",
      "File:  transArchive_201007_201009.csv  Size: 2375\n",
      "File:  transArchive_201001_201003.csv  Size: 2409\n",
      "File:  transArchive_201601.csv  Size: 2368\n",
      "File:  transArchive_201004_201006.csv  Size: 2420\n",
      "File:  transArchive_201207_201209_inactive.csv  Size: 2393\n",
      "File:  transArchive_201605.csv  Size: 2334\n",
      "File:  transArchive_201611.csv  Size: 2416\n",
      "File:  transArchive_201610.csv  Size: 2157\n",
      "File:  transArchive_201604.csv  Size: 2271\n",
      "File:  transArchive_201612.csv  Size: 2333\n",
      "File:  transArchive_201606.csv  Size: 2371\n",
      "File:  transArchive_201010_201012.csv  Size: 2364\n",
      "File:  transArchive_201401_201403_inactive.csv  Size: 2402\n",
      "File:  transArchive_201607.csv  Size: 2310\n",
      "File:  transArchive_201410_201412.csv  Size: 2331\n",
      "File:  transArchive_201301_201303_inactive.csv  Size: 2491\n",
      "File:  transArchive_201210_201212.csv  Size: 2341\n",
      "File:  transArchive_201609.csv  Size: 2306\n",
      "File:  transArchive_201608.csv  Size: 2307\n",
      "File:  transArchive_201201_201203.csv  Size: 2399\n",
      "File:  transArchive_201204_201206.csv  Size: 2362\n",
      "File:  transArchive_201407_201409.csv  Size: 2419\n",
      "File:  transArchive_201207_201209.csv  Size: 2419\n",
      "File:  transArchive_201404_201406.csv  Size: 2378\n",
      "File:  transArchive_201401_201403.csv  Size: 2398\n",
      "File:  transArchive_201404_201406_inactive.csv  Size: 2439\n",
      "File:  transArchive_201210_201212_inactive.csv  Size: 2509\n",
      "File:  transArchive_201307_201309_inactive.csv  Size: 2427\n",
      "File:  transArchive_201501_201503.csv  Size: 2284\n",
      "File:  transArchive_201307_201309.csv  Size: 2550\n",
      "File:  transArchive_201504_201506.csv  Size: 2369\n",
      "File:  transArchive_201304_201306.csv  Size: 2460\n",
      "File:  transArchive_201507_201509.csv  Size: 2245\n",
      "File:  transArchive_201301_201303.csv  Size: 2292\n",
      "File:  transArchive_201204_201206_inactive.csv  Size: 2416\n",
      "File:  transArchive_201410_201412_inactive.csv  Size: 2429\n",
      "File:  transArchive_201310_201312.csv  Size: 2347\n",
      "File:  transArchive_201106.csv  Size: 2370\n",
      "File:  transArchive_201110_201112.csv  Size: 2385\n",
      "File:  transArchive_201701.csv  Size: 2167\n",
      "File:  transArchive_201310_201312_inactive.csv  Size: 2296\n",
      "File:  transArchive_201105.csv  Size: 2369\n",
      "File:  transArchive_201104.csv  Size: 2333\n",
      "File:  transArchive_201510.csv  Size: 2287\n",
      "File:  transArchive_201201_201203_inactive.csv  Size: 2486\n",
      "File:  transArchive_201101_201103.csv  Size: 2393\n",
      "File:  transArchive_201107_201109.csv  Size: 2357\n",
      "File:  transArchive_201511.csv  Size: 2365\n",
      "File:  transArchive_201407_201409_inactive.csv  Size: 2416\n",
      "File:  transArchive_201512.csv  Size: 2340\n",
      "File:  transArchive_201603.csv  Size: 2160\n",
      "File:  transArchive_201304_201306_inactive.csv  Size: 2395\n",
      "File:  transArchive_201602.csv  Size: 2279\n",
      "File:  transArchive_201007_201009.csv  Size: 2375\n",
      "File:  transArchive_201001_201003.csv  Size: 2409\n",
      "File:  transArchive_201601.csv  Size: 2368\n",
      "File:  transArchive_201004_201006.csv  Size: 2420\n",
      "File:  transArchive_201207_201209_inactive.csv  Size: 2393\n",
      "File:  transArchive_201605.csv  Size: 2334\n",
      "File:  transArchive_201611.csv  Size: 2416\n",
      "File:  transArchive_201610.csv  Size: 2157\n",
      "File:  transArchive_201604.csv  Size: 2271\n",
      "File:  transArchive_201612.csv  Size: 2333\n",
      "File:  transArchive_201606.csv  Size: 2371\n",
      "File:  transArchive_201010_201012.csv  Size: 2364\n",
      "File:  transArchive_201401_201403_inactive.csv  Size: 2402\n",
      "File:  transArchive_201607.csv  Size: 2310\n"
     ]
    }
   ],
   "source": [
    "display_file_contents(zip_files)\n"
   ]
  },
  {
   "cell_type": "markdown",
   "id": "801b2eeb",
   "metadata": {},
   "source": [
    "## Extract Inner Zips"
   ]
  },
  {
   "cell_type": "code",
   "execution_count": 85,
   "id": "bafd2444",
   "metadata": {},
   "outputs": [
    {
     "name": "stdout",
     "output_type": "stream",
     "text": [
      "Need to Extract\n",
      "transArchive_201310_201312_small.csv\n",
      "Need to Extract\n",
      "transArchive_201207_201209_small.csv\n",
      "Need to Extract\n",
      "transArchive_201204_201206_inactive_small.csv\n",
      "Need to Extract\n",
      "transArchive_201304_201306_inactive_small.csv\n",
      "Need to Extract\n",
      "transArchive_201007_201009_small.csv\n",
      "Need to Extract\n",
      "transArchive_201105_small.csv\n",
      "Need to Extract\n",
      "transArchive_201110_201112_small.csv\n",
      "Need to Extract\n",
      "transArchive_201304_201306_small.csv\n",
      "Need to Extract\n",
      "transArchive_201404_201406_inactive_small.csv\n",
      "Need to Extract\n",
      "transArchive_201504_201506_small.csv\n",
      "Need to Extract\n",
      "transArchive_201612_small.csv\n",
      "Need to Extract\n",
      "transArchive_201606_small.csv\n",
      "Need to Extract\n",
      "transArchive_201401_201403_inactive_small.csv\n",
      "Need to Extract\n",
      "transArchive_201407_201409_small.csv\n",
      "Need to Extract\n",
      "transArchive_201201_201203_inactive_small.csv\n",
      "Need to Extract\n",
      "transArchive_201301_201303_inactive_small.csv\n",
      "Need to Extract\n",
      "transArchive_201310_201312_inactive_small.csv\n",
      "Need to Extract\n",
      "transArchive_201107_201109_small.csv\n",
      "Need to Extract\n",
      "transArchive_201601_small.csv\n",
      "Need to Extract\n",
      "transArchive_201210_201212_inactive_small.csv\n",
      "Need to Extract\n",
      "transArchive_201010_201012_small.csv\n",
      "Need to Extract\n",
      "transArchive_201204_201206_small.csv\n",
      "Need to Extract\n",
      "transArchive_201410_201412_inactive_small.csv\n",
      "Need to Extract\n",
      "transArchive_201210_201212_small.csv\n",
      "Need to Extract\n",
      "transArchive_201104_small.csv\n",
      "Need to Extract\n",
      "transArchive_201307_201309_small.csv\n",
      "Need to Extract\n",
      "transArchive_201512_small.csv\n",
      "Need to Extract\n",
      "transArchive_201004_201006_small.csv\n",
      "Need to Extract\n",
      "transArchive_201207_201209_inactive_small.csv\n",
      "Need to Extract\n",
      "transArchive_201307_201309_inactive_small.csv\n",
      "Need to Extract\n",
      "transArchive_201507_201509_small.csv\n",
      "Need to Extract\n",
      "transArchive_201607_small.csv\n",
      "Need to Extract\n",
      "transArchive_201410_201412_small.csv\n",
      "Need to Extract\n",
      "transArchive_201404_201406_small.csv\n",
      "Need to Extract\n",
      "transArchive_201407_201409_inactive_small.csv\n",
      "Need to Extract\n",
      "transArchive_201602_small.csv\n",
      "Need to Extract\n",
      "transArchive_201301_201303_small.csv\n",
      "Need to Extract\n",
      "transArchive_201101_201103_small.csv\n",
      "Need to Extract\n",
      "transArchive_201511_small.csv\n",
      "Need to Extract\n",
      "transArchive_201610_small.csv\n",
      "Need to Extract\n",
      "transArchive_201604_small.csv\n",
      "Need to Extract\n",
      "transArchive_201501_201503_small.csv\n",
      "Need to Extract\n",
      "transArchive_201609_small.csv\n",
      "Need to Extract\n",
      "transArchive_201001_201003_small.csv\n",
      "Need to Extract\n",
      "transArchive_201603_small.csv\n",
      "Need to Extract\n",
      "transArchive_201106_small.csv\n",
      "Need to Extract\n",
      "transArchive_201201_201203_small.csv\n",
      "Need to Extract\n",
      "transArchive_201510_small.csv\n",
      "Need to Extract\n",
      "transArchive_201605_small.csv\n",
      "Need to Extract\n",
      "transArchive_201401_201403_small.csv\n",
      "Need to Extract\n",
      "transArchive_201611_small.csv\n",
      "Need to Extract\n",
      "transArchive_201608_small.csv\n",
      "Need to Extract\n",
      "transArchive_201701_small.csv\n"
     ]
    }
   ],
   "source": [
    "data_files = []\n",
    "\n",
    "for inner_zip_file_name in zip_files :\n",
    "    # print(working_directory + inner_zip_file_name)\n",
    "    # Ignore folders\n",
    "    if not inner_zip_file_name.endswith( '.zip' ):\n",
    "        continue\n",
    "    with ZipFile( working_directory + inner_zip_file_name, 'r') as zf : \n",
    "        extract_single_zip(zf)\n",
    "#         extract_single_zips(zip_files)"
   ]
  },
  {
   "cell_type": "markdown",
   "id": "c2d15709",
   "metadata": {},
   "source": [
    "## Verify Data Files"
   ]
  },
  {
   "cell_type": "code",
   "execution_count": 86,
   "id": "3d15c40d",
   "metadata": {},
   "outputs": [
    {
     "name": "stdout",
     "output_type": "stream",
     "text": [
      "File:  transArchive_201310_201312_small.csv  Size: 2949882\n",
      "File:  transArchive_201207_201209_small.csv  Size: 2969050\n",
      "File:  transArchive_201204_201206_inactive_small.csv  Size: 2985314\n",
      "File:  transArchive_201304_201306_inactive_small.csv  Size: 2983825\n",
      "File:  transArchive_201007_201009_small.csv  Size: 2908093\n",
      "File:  transArchive_201105_small.csv  Size: 2163264\n",
      "File:  transArchive_201110_201112_small.csv  Size: 2972362\n",
      "File:  transArchive_201304_201306_small.csv  Size: 2954919\n",
      "File:  transArchive_201404_201406_inactive_small.csv  Size: 2981013\n",
      "File:  transArchive_201504_201506_small.csv  Size: 2882102\n",
      "File:  transArchive_201612_small.csv  Size: 1926090\n",
      "File:  transArchive_201606_small.csv  Size: 1923903\n",
      "File:  transArchive_201401_201403_inactive_small.csv  Size: 2992241\n",
      "File:  transArchive_201407_201409_small.csv  Size: 2961378\n",
      "File:  transArchive_201201_201203_inactive_small.csv  Size: 2992082\n",
      "File:  transArchive_201301_201303_inactive_small.csv  Size: 2993195\n",
      "File:  transArchive_201310_201312_inactive_small.csv  Size: 2983552\n",
      "File:  transArchive_201107_201109_small.csv  Size: 2960648\n",
      "File:  transArchive_201601_small.csv  Size: 1969450\n",
      "File:  transArchive_201210_201212_inactive_small.csv  Size: 2983488\n",
      "File:  transArchive_201010_201012_small.csv  Size: 2936765\n",
      "File:  transArchive_201204_201206_small.csv  Size: 2970359\n",
      "File:  transArchive_201410_201412_inactive_small.csv  Size: 2351949\n",
      "File:  transArchive_201210_201212_small.csv  Size: 2955664\n",
      "File:  transArchive_201104_small.csv  Size: 2147765\n",
      "File:  transArchive_201307_201309_small.csv  Size: 2957374\n",
      "File:  transArchive_201512_small.csv  Size: 1827858\n",
      "File:  transArchive_201004_201006_small.csv  Size: 2910071\n",
      "File:  transArchive_201207_201209_inactive_small.csv  Size: 2974552\n",
      "File:  transArchive_201307_201309_inactive_small.csv  Size: 2969630\n",
      "File:  transArchive_201507_201509_small.csv  Size: 2895224\n",
      "File:  transArchive_201607_small.csv  Size: 1930835\n",
      "File:  transArchive_201410_201412_small.csv  Size: 2962906\n",
      "File:  transArchive_201404_201406_small.csv  Size: 2942692\n",
      "File:  transArchive_201407_201409_inactive_small.csv  Size: 2960181\n",
      "File:  transArchive_201602_small.csv  Size: 1948004\n",
      "File:  transArchive_201301_201303_small.csv  Size: 2958925\n",
      "File:  transArchive_201101_201103_small.csv  Size: 2970096\n",
      "File:  transArchive_201511_small.csv  Size: 1965941\n",
      "File:  transArchive_201610_small.csv  Size: 1938735\n",
      "File:  transArchive_201604_small.csv  Size: 1945929\n",
      "File:  transArchive_201501_201503_small.csv  Size: 2929970\n",
      "File:  transArchive_201609_small.csv  Size: 1921537\n",
      "File:  transArchive_201001_201003_small.csv  Size: 2948918\n",
      "File:  transArchive_201603_small.csv  Size: 1936590\n",
      "File:  transArchive_201106_small.csv  Size: 2132916\n",
      "File:  transArchive_201201_201203_small.csv  Size: 2965935\n",
      "File:  transArchive_201510_small.csv  Size: 2898848\n",
      "File:  transArchive_201605_small.csv  Size: 1940645\n",
      "File:  transArchive_201401_201403_small.csv  Size: 2989533\n",
      "File:  transArchive_201611_small.csv  Size: 1923712\n",
      "File:  transArchive_201608_small.csv  Size: 1927451\n",
      "File:  transArchive_201701_small.csv  Size: 1948489\n"
     ]
    }
   ],
   "source": [
    "display_file_contents(data_files)\n"
   ]
  },
  {
   "cell_type": "markdown",
   "id": "fb7a903e",
   "metadata": {},
   "source": [
    "### Checking for and deleting previous tables\n",
    "\n",
    "We'll get all the tables in our Dram data set that match our pattern, then delete them. We do not want to accidentally delete the item lookup table that we put in this data set in class. \n"
   ]
  },
  {
   "cell_type": "code",
   "execution_count": 153,
   "id": "af712f41",
   "metadata": {},
   "outputs": [
    {
     "name": "stdout",
     "output_type": "stream",
     "text": [
      "Looking at transArchive_201001_201003\n",
      "She swiped right, we have a MATCH! transArchive_201001_201003\n",
      "She blocked us, all hope is lost transArchive_201001_201003.\n",
      "Looking at transArchive_201001_201003_small\n",
      "She swiped right, we have a MATCH! transArchive_201001_201003_small\n",
      "She blocked us, all hope is lost transArchive_201001_201003_small.\n",
      "Looking at transArchive_201004_201006\n",
      "She swiped right, we have a MATCH! transArchive_201004_201006\n",
      "She blocked us, all hope is lost transArchive_201004_201006.\n",
      "Looking at transArchive_201004_201006_small\n",
      "She swiped right, we have a MATCH! transArchive_201004_201006_small\n",
      "She blocked us, all hope is lost transArchive_201004_201006_small.\n",
      "Looking at transArchive_201007_201009\n",
      "She swiped right, we have a MATCH! transArchive_201007_201009\n",
      "She blocked us, all hope is lost transArchive_201007_201009.\n",
      "Looking at transArchive_201007_201009_small\n",
      "She swiped right, we have a MATCH! transArchive_201007_201009_small\n",
      "She blocked us, all hope is lost transArchive_201007_201009_small.\n",
      "Looking at transArchive_201010_201012\n",
      "She swiped right, we have a MATCH! transArchive_201010_201012\n",
      "She blocked us, all hope is lost transArchive_201010_201012.\n",
      "Looking at transArchive_201010_201012_small\n",
      "She swiped right, we have a MATCH! transArchive_201010_201012_small\n",
      "She blocked us, all hope is lost transArchive_201010_201012_small.\n",
      "Looking at transArchive_201101_201103\n",
      "She swiped right, we have a MATCH! transArchive_201101_201103\n",
      "She blocked us, all hope is lost transArchive_201101_201103.\n",
      "Looking at transArchive_201101_201103_small\n",
      "She swiped right, we have a MATCH! transArchive_201101_201103_small\n",
      "She blocked us, all hope is lost transArchive_201101_201103_small.\n",
      "Looking at transArchive_201104\n",
      "She swiped right, we have a MATCH! transArchive_201104\n",
      "She blocked us, all hope is lost transArchive_201104.\n",
      "Looking at transArchive_201104_small\n",
      "She swiped right, we have a MATCH! transArchive_201104_small\n",
      "She blocked us, all hope is lost transArchive_201104_small.\n",
      "Looking at transArchive_201105\n",
      "She swiped right, we have a MATCH! transArchive_201105\n",
      "She blocked us, all hope is lost transArchive_201105.\n",
      "Looking at transArchive_201105_small\n",
      "She swiped right, we have a MATCH! transArchive_201105_small\n",
      "She blocked us, all hope is lost transArchive_201105_small.\n",
      "Looking at transArchive_201106\n",
      "She swiped right, we have a MATCH! transArchive_201106\n",
      "She blocked us, all hope is lost transArchive_201106.\n",
      "Looking at transArchive_201106_small\n",
      "She swiped right, we have a MATCH! transArchive_201106_small\n",
      "She blocked us, all hope is lost transArchive_201106_small.\n",
      "Looking at transArchive_201107_201109\n",
      "She swiped right, we have a MATCH! transArchive_201107_201109\n",
      "She blocked us, all hope is lost transArchive_201107_201109.\n",
      "Looking at transArchive_201107_201109_small\n",
      "She swiped right, we have a MATCH! transArchive_201107_201109_small\n",
      "She blocked us, all hope is lost transArchive_201107_201109_small.\n",
      "Looking at transArchive_201110_201112\n",
      "She swiped right, we have a MATCH! transArchive_201110_201112\n",
      "She blocked us, all hope is lost transArchive_201110_201112.\n",
      "Looking at transArchive_201110_201112_small\n",
      "She swiped right, we have a MATCH! transArchive_201110_201112_small\n",
      "She blocked us, all hope is lost transArchive_201110_201112_small.\n",
      "Looking at transArchive_201201_201203\n",
      "She swiped right, we have a MATCH! transArchive_201201_201203\n",
      "She blocked us, all hope is lost transArchive_201201_201203.\n",
      "Looking at transArchive_201201_201203_inactive\n",
      "She swiped right, we have a MATCH! transArchive_201201_201203_inactive\n",
      "She blocked us, all hope is lost transArchive_201201_201203_inactive.\n",
      "Looking at transArchive_201201_201203_inactive_small\n",
      "She swiped right, we have a MATCH! transArchive_201201_201203_inactive_small\n",
      "She blocked us, all hope is lost transArchive_201201_201203_inactive_small.\n",
      "Looking at transArchive_201201_201203_small\n",
      "She swiped right, we have a MATCH! transArchive_201201_201203_small\n",
      "She blocked us, all hope is lost transArchive_201201_201203_small.\n",
      "Looking at transArchive_201204_201206\n",
      "She swiped right, we have a MATCH! transArchive_201204_201206\n",
      "She blocked us, all hope is lost transArchive_201204_201206.\n",
      "Looking at transArchive_201204_201206_inactive\n",
      "She swiped right, we have a MATCH! transArchive_201204_201206_inactive\n",
      "She blocked us, all hope is lost transArchive_201204_201206_inactive.\n",
      "Looking at transArchive_201204_201206_inactive_small\n",
      "She swiped right, we have a MATCH! transArchive_201204_201206_inactive_small\n",
      "She blocked us, all hope is lost transArchive_201204_201206_inactive_small.\n",
      "Looking at transArchive_201204_201206_small\n",
      "She swiped right, we have a MATCH! transArchive_201204_201206_small\n",
      "She blocked us, all hope is lost transArchive_201204_201206_small.\n",
      "Looking at transArchive_201207_201209\n",
      "She swiped right, we have a MATCH! transArchive_201207_201209\n",
      "She blocked us, all hope is lost transArchive_201207_201209.\n",
      "Looking at transArchive_201207_201209_inactive\n",
      "She swiped right, we have a MATCH! transArchive_201207_201209_inactive\n",
      "She blocked us, all hope is lost transArchive_201207_201209_inactive.\n",
      "Looking at transArchive_201207_201209_inactive_small\n",
      "She swiped right, we have a MATCH! transArchive_201207_201209_inactive_small\n",
      "She blocked us, all hope is lost transArchive_201207_201209_inactive_small.\n",
      "Looking at transArchive_201207_201209_small\n",
      "She swiped right, we have a MATCH! transArchive_201207_201209_small\n",
      "She blocked us, all hope is lost transArchive_201207_201209_small.\n",
      "Looking at transArchive_201210_201212\n",
      "She swiped right, we have a MATCH! transArchive_201210_201212\n",
      "She blocked us, all hope is lost transArchive_201210_201212.\n",
      "Looking at transArchive_201210_201212_inactive\n",
      "She swiped right, we have a MATCH! transArchive_201210_201212_inactive\n",
      "She blocked us, all hope is lost transArchive_201210_201212_inactive.\n",
      "Looking at transArchive_201210_201212_inactive_small\n",
      "She swiped right, we have a MATCH! transArchive_201210_201212_inactive_small\n",
      "She blocked us, all hope is lost transArchive_201210_201212_inactive_small.\n",
      "Looking at transArchive_201210_201212_small\n",
      "She swiped right, we have a MATCH! transArchive_201210_201212_small\n",
      "She blocked us, all hope is lost transArchive_201210_201212_small.\n",
      "Looking at transArchive_201301_201303\n",
      "She swiped right, we have a MATCH! transArchive_201301_201303\n",
      "She blocked us, all hope is lost transArchive_201301_201303.\n",
      "Looking at transArchive_201301_201303_inactive\n",
      "She swiped right, we have a MATCH! transArchive_201301_201303_inactive\n",
      "She blocked us, all hope is lost transArchive_201301_201303_inactive.\n",
      "Looking at transArchive_201301_201303_inactive_small\n",
      "She swiped right, we have a MATCH! transArchive_201301_201303_inactive_small\n",
      "She blocked us, all hope is lost transArchive_201301_201303_inactive_small.\n",
      "Looking at transArchive_201301_201303_small\n",
      "She swiped right, we have a MATCH! transArchive_201301_201303_small\n",
      "She blocked us, all hope is lost transArchive_201301_201303_small.\n",
      "Looking at transArchive_201304_201306\n",
      "She swiped right, we have a MATCH! transArchive_201304_201306\n",
      "She blocked us, all hope is lost transArchive_201304_201306.\n",
      "Looking at transArchive_201304_201306_inactive\n",
      "She swiped right, we have a MATCH! transArchive_201304_201306_inactive\n",
      "She blocked us, all hope is lost transArchive_201304_201306_inactive.\n",
      "Looking at transArchive_201304_201306_inactive_small\n",
      "She swiped right, we have a MATCH! transArchive_201304_201306_inactive_small\n",
      "She blocked us, all hope is lost transArchive_201304_201306_inactive_small.\n",
      "Looking at transArchive_201304_201306_small\n",
      "She swiped right, we have a MATCH! transArchive_201304_201306_small\n",
      "She blocked us, all hope is lost transArchive_201304_201306_small.\n",
      "Looking at transArchive_201307_201309\n",
      "She swiped right, we have a MATCH! transArchive_201307_201309\n",
      "She blocked us, all hope is lost transArchive_201307_201309.\n",
      "Looking at transArchive_201307_201309_inactive\n",
      "She swiped right, we have a MATCH! transArchive_201307_201309_inactive\n",
      "She blocked us, all hope is lost transArchive_201307_201309_inactive.\n",
      "Looking at transArchive_201307_201309_inactive_small\n",
      "She swiped right, we have a MATCH! transArchive_201307_201309_inactive_small\n",
      "She blocked us, all hope is lost transArchive_201307_201309_inactive_small.\n",
      "Looking at transArchive_201307_201309_small\n",
      "She swiped right, we have a MATCH! transArchive_201307_201309_small\n"
     ]
    },
    {
     "name": "stdout",
     "output_type": "stream",
     "text": [
      "She blocked us, all hope is lost transArchive_201307_201309_small.\n",
      "Looking at transArchive_201310_201312\n",
      "She swiped right, we have a MATCH! transArchive_201310_201312\n",
      "She blocked us, all hope is lost transArchive_201310_201312.\n",
      "Looking at transArchive_201310_201312_inactive\n",
      "She swiped right, we have a MATCH! transArchive_201310_201312_inactive\n",
      "She blocked us, all hope is lost transArchive_201310_201312_inactive.\n",
      "Looking at transArchive_201310_201312_inactive_small\n",
      "She swiped right, we have a MATCH! transArchive_201310_201312_inactive_small\n",
      "She blocked us, all hope is lost transArchive_201310_201312_inactive_small.\n",
      "Looking at transArchive_201310_201312_small\n",
      "She swiped right, we have a MATCH! transArchive_201310_201312_small\n",
      "She blocked us, all hope is lost transArchive_201310_201312_small.\n",
      "Looking at transArchive_201401_201403\n",
      "She swiped right, we have a MATCH! transArchive_201401_201403\n",
      "She blocked us, all hope is lost transArchive_201401_201403.\n",
      "Looking at transArchive_201401_201403_inactive\n",
      "She swiped right, we have a MATCH! transArchive_201401_201403_inactive\n",
      "She blocked us, all hope is lost transArchive_201401_201403_inactive.\n",
      "Looking at transArchive_201401_201403_inactive_small\n",
      "She swiped right, we have a MATCH! transArchive_201401_201403_inactive_small\n",
      "She blocked us, all hope is lost transArchive_201401_201403_inactive_small.\n",
      "Looking at transArchive_201401_201403_small\n",
      "She swiped right, we have a MATCH! transArchive_201401_201403_small\n",
      "She blocked us, all hope is lost transArchive_201401_201403_small.\n",
      "Looking at transArchive_201404_201406\n",
      "She swiped right, we have a MATCH! transArchive_201404_201406\n",
      "She blocked us, all hope is lost transArchive_201404_201406.\n",
      "Looking at transArchive_201404_201406_inactive\n",
      "She swiped right, we have a MATCH! transArchive_201404_201406_inactive\n",
      "She blocked us, all hope is lost transArchive_201404_201406_inactive.\n",
      "Looking at transArchive_201404_201406_inactive_small\n",
      "She swiped right, we have a MATCH! transArchive_201404_201406_inactive_small\n",
      "She blocked us, all hope is lost transArchive_201404_201406_inactive_small.\n",
      "Looking at transArchive_201404_201406_small\n",
      "She swiped right, we have a MATCH! transArchive_201404_201406_small\n",
      "She blocked us, all hope is lost transArchive_201404_201406_small.\n",
      "Looking at transArchive_201407_201409\n",
      "She swiped right, we have a MATCH! transArchive_201407_201409\n",
      "She blocked us, all hope is lost transArchive_201407_201409.\n",
      "Looking at transArchive_201407_201409_inactive\n",
      "She swiped right, we have a MATCH! transArchive_201407_201409_inactive\n",
      "She blocked us, all hope is lost transArchive_201407_201409_inactive.\n",
      "Looking at transArchive_201407_201409_inactive_small\n",
      "She swiped right, we have a MATCH! transArchive_201407_201409_inactive_small\n",
      "She blocked us, all hope is lost transArchive_201407_201409_inactive_small.\n",
      "Looking at transArchive_201407_201409_small\n",
      "She swiped right, we have a MATCH! transArchive_201407_201409_small\n",
      "She blocked us, all hope is lost transArchive_201407_201409_small.\n",
      "Looking at transArchive_201410_201412\n",
      "She swiped right, we have a MATCH! transArchive_201410_201412\n",
      "She blocked us, all hope is lost transArchive_201410_201412.\n",
      "Looking at transArchive_201410_201412_inactive\n",
      "She swiped right, we have a MATCH! transArchive_201410_201412_inactive\n",
      "She blocked us, all hope is lost transArchive_201410_201412_inactive.\n",
      "Looking at transArchive_201410_201412_inactive_small\n",
      "She swiped right, we have a MATCH! transArchive_201410_201412_inactive_small\n",
      "She blocked us, all hope is lost transArchive_201410_201412_inactive_small.\n",
      "Looking at transArchive_201410_201412_small\n",
      "She swiped right, we have a MATCH! transArchive_201410_201412_small\n",
      "She blocked us, all hope is lost transArchive_201410_201412_small.\n",
      "Looking at transArchive_201501_201503\n",
      "She swiped right, we have a MATCH! transArchive_201501_201503\n",
      "She blocked us, all hope is lost transArchive_201501_201503.\n",
      "Looking at transArchive_201501_201503_small\n",
      "She swiped right, we have a MATCH! transArchive_201501_201503_small\n",
      "She blocked us, all hope is lost transArchive_201501_201503_small.\n",
      "Looking at transArchive_201504_201506\n",
      "She swiped right, we have a MATCH! transArchive_201504_201506\n",
      "She blocked us, all hope is lost transArchive_201504_201506.\n",
      "Looking at transArchive_201504_201506_small\n",
      "She swiped right, we have a MATCH! transArchive_201504_201506_small\n",
      "She blocked us, all hope is lost transArchive_201504_201506_small.\n",
      "Looking at transArchive_201507_201509\n",
      "She swiped right, we have a MATCH! transArchive_201507_201509\n",
      "She blocked us, all hope is lost transArchive_201507_201509.\n",
      "Looking at transArchive_201507_201509_small\n",
      "She swiped right, we have a MATCH! transArchive_201507_201509_small\n",
      "She blocked us, all hope is lost transArchive_201507_201509_small.\n",
      "Looking at transArchive_201510\n",
      "She swiped right, we have a MATCH! transArchive_201510\n",
      "She blocked us, all hope is lost transArchive_201510.\n",
      "Looking at transArchive_201510_small\n",
      "She swiped right, we have a MATCH! transArchive_201510_small\n",
      "She blocked us, all hope is lost transArchive_201510_small.\n",
      "Looking at transArchive_201511\n",
      "She swiped right, we have a MATCH! transArchive_201511\n",
      "She blocked us, all hope is lost transArchive_201511.\n",
      "Looking at transArchive_201511_small\n",
      "She swiped right, we have a MATCH! transArchive_201511_small\n",
      "She blocked us, all hope is lost transArchive_201511_small.\n",
      "Looking at transArchive_201512\n",
      "She swiped right, we have a MATCH! transArchive_201512\n",
      "She blocked us, all hope is lost transArchive_201512.\n",
      "Looking at transArchive_201512_small\n",
      "She swiped right, we have a MATCH! transArchive_201512_small\n",
      "She blocked us, all hope is lost transArchive_201512_small.\n",
      "Looking at transArchive_201601\n",
      "She swiped right, we have a MATCH! transArchive_201601\n",
      "She blocked us, all hope is lost transArchive_201601.\n",
      "Looking at transArchive_201601_small\n",
      "She swiped right, we have a MATCH! transArchive_201601_small\n",
      "She blocked us, all hope is lost transArchive_201601_small.\n",
      "Looking at transArchive_201602\n",
      "She swiped right, we have a MATCH! transArchive_201602\n",
      "She blocked us, all hope is lost transArchive_201602.\n",
      "Looking at transArchive_201602_small\n",
      "She swiped right, we have a MATCH! transArchive_201602_small\n",
      "She blocked us, all hope is lost transArchive_201602_small.\n",
      "Looking at transArchive_201603\n",
      "She swiped right, we have a MATCH! transArchive_201603\n",
      "She blocked us, all hope is lost transArchive_201603.\n",
      "Looking at transArchive_201603_small\n",
      "She swiped right, we have a MATCH! transArchive_201603_small\n",
      "She blocked us, all hope is lost transArchive_201603_small.\n",
      "Looking at transArchive_201604\n",
      "She swiped right, we have a MATCH! transArchive_201604\n",
      "She blocked us, all hope is lost transArchive_201604.\n",
      "Looking at transArchive_201604_small\n",
      "She swiped right, we have a MATCH! transArchive_201604_small\n",
      "She blocked us, all hope is lost transArchive_201604_small.\n",
      "Looking at transArchive_201605\n",
      "She swiped right, we have a MATCH! transArchive_201605\n",
      "She blocked us, all hope is lost transArchive_201605.\n",
      "Looking at transArchive_201605_small\n",
      "She swiped right, we have a MATCH! transArchive_201605_small\n",
      "She blocked us, all hope is lost transArchive_201605_small.\n",
      "Looking at transArchive_201606\n",
      "She swiped right, we have a MATCH! transArchive_201606\n",
      "She blocked us, all hope is lost transArchive_201606.\n",
      "Looking at transArchive_201606_small\n",
      "She swiped right, we have a MATCH! transArchive_201606_small\n",
      "She blocked us, all hope is lost transArchive_201606_small.\n",
      "Looking at transArchive_201607\n",
      "She swiped right, we have a MATCH! transArchive_201607\n",
      "She blocked us, all hope is lost transArchive_201607.\n",
      "Looking at transArchive_201607_small\n",
      "She swiped right, we have a MATCH! transArchive_201607_small\n",
      "She blocked us, all hope is lost transArchive_201607_small.\n",
      "Looking at transArchive_201608\n",
      "She swiped right, we have a MATCH! transArchive_201608\n",
      "She blocked us, all hope is lost transArchive_201608.\n",
      "Looking at transArchive_201608_small\n",
      "She swiped right, we have a MATCH! transArchive_201608_small\n",
      "She blocked us, all hope is lost transArchive_201608_small.\n",
      "Looking at transArchive_201609\n",
      "She swiped right, we have a MATCH! transArchive_201609\n",
      "She blocked us, all hope is lost transArchive_201609.\n",
      "Looking at transArchive_201609_small\n",
      "She swiped right, we have a MATCH! transArchive_201609_small\n"
     ]
    },
    {
     "name": "stdout",
     "output_type": "stream",
     "text": [
      "She blocked us, all hope is lost transArchive_201609_small.\n",
      "Looking at transArchive_201610\n",
      "She swiped right, we have a MATCH! transArchive_201610\n",
      "She blocked us, all hope is lost transArchive_201610.\n",
      "Looking at transArchive_201610_small\n",
      "She swiped right, we have a MATCH! transArchive_201610_small\n",
      "She blocked us, all hope is lost transArchive_201610_small.\n",
      "Looking at transArchive_201611\n",
      "She swiped right, we have a MATCH! transArchive_201611\n",
      "She blocked us, all hope is lost transArchive_201611.\n",
      "Looking at transArchive_201611_small\n",
      "She swiped right, we have a MATCH! transArchive_201611_small\n",
      "She blocked us, all hope is lost transArchive_201611_small.\n",
      "Looking at transArchive_201612\n",
      "She swiped right, we have a MATCH! transArchive_201612\n",
      "She blocked us, all hope is lost transArchive_201612.\n",
      "Looking at transArchive_201612_small\n",
      "She swiped right, we have a MATCH! transArchive_201612_small\n",
      "She blocked us, all hope is lost transArchive_201612_small.\n",
      "Looking at transArchive_201701\n",
      "She swiped right, we have a MATCH! transArchive_201701\n",
      "She blocked us, all hope is lost transArchive_201701.\n",
      "Looking at transArchive_201701_small\n",
      "She swiped right, we have a MATCH! transArchive_201701_small\n",
      "She blocked us, all hope is lost transArchive_201701_small.\n"
     ]
    }
   ],
   "source": [
    "# create a regex that matches our table pattern\n",
    "# ymd_pattern = re.compile(r\"^dram_items_[1-2][9,0][1-2][9,0,1,2][01][0-9][01][0-9]$\") \n",
    "\n",
    "transArchive_pattern = re.compile(r\"^transArchive_*\") \n",
    "\n",
    "tables = client.list_tables(dataset_id)  \n",
    "\n",
    "for table in tables:\n",
    "    \n",
    "    print(f'Looking at {table.table_id}')\n",
    "\n",
    "    # Test to see if table.table_id matches the pattern\n",
    "    # if so, delete it\n",
    "    if transArchive_pattern.match(table.table_id):\n",
    "        # print(table.table_id)\n",
    "        print(f'She swiped right, we have a MATCH! {table.table_id}')\n",
    "        # table_id = \".\".join([gbq_proj_id,dataset_id,table.table_id])\n",
    "        # Disabling to prevent accidently running\n",
    "        client.delete_table(table, not_found_ok=True)\n",
    "        print(f\"She blocked us, all hope is lost {table.table_id}.\")\n"
   ]
  },
  {
   "cell_type": "markdown",
   "id": "c69491f0",
   "metadata": {},
   "source": [
    "## Uploading"
   ]
  },
  {
   "cell_type": "code",
   "execution_count": 154,
   "id": "d6f98701",
   "metadata": {},
   "outputs": [
    {
     "name": "stdout",
     "output_type": "stream",
     "text": [
      "transArchive_201310_201312_small.csv\n",
      "transArchive_201310_201312\n"
     ]
    },
    {
     "name": "stderr",
     "output_type": "stream",
     "text": [
      "100%|█████████████████████████████████████████████████████████████████████████████████████████████████████████████████████████| 1/1 [00:00<00:00, 6186.29it/s]\n"
     ]
    },
    {
     "name": "stdout",
     "output_type": "stream",
     "text": [
      "transArchive_201207_201209_small.csv\n",
      "transArchive_201207_201209\n"
     ]
    },
    {
     "name": "stderr",
     "output_type": "stream",
     "text": [
      "100%|█████████████████████████████████████████████████████████████████████████████████████████████████████████████████████████| 1/1 [00:00<00:00, 5599.87it/s]\n"
     ]
    },
    {
     "name": "stdout",
     "output_type": "stream",
     "text": [
      "transArchive_201204_201206_inactive_small.csv\n",
      "transArchive_201204_201206_inactive\n"
     ]
    },
    {
     "name": "stderr",
     "output_type": "stream",
     "text": [
      "100%|████████████████████████████████████████████████████████████████████████████████████████████████████████████████████████| 1/1 [00:00<00:00, 11881.88it/s]\n"
     ]
    },
    {
     "name": "stdout",
     "output_type": "stream",
     "text": [
      "transArchive_201304_201306_inactive_small.csv\n",
      "transArchive_201304_201306_inactive\n"
     ]
    },
    {
     "name": "stderr",
     "output_type": "stream",
     "text": [
      "100%|█████████████████████████████████████████████████████████████████████████████████████████████████████████████████████████| 1/1 [00:00<00:00, 8035.07it/s]\n"
     ]
    },
    {
     "name": "stdout",
     "output_type": "stream",
     "text": [
      "transArchive_201007_201009_small.csv\n",
      "transArchive_201007_201009\n"
     ]
    },
    {
     "name": "stderr",
     "output_type": "stream",
     "text": [
      "100%|█████████████████████████████████████████████████████████████████████████████████████████████████████████████████████████| 1/1 [00:00<00:00, 3631.43it/s]\n"
     ]
    },
    {
     "name": "stdout",
     "output_type": "stream",
     "text": [
      "transArchive_201105_small.csv\n",
      "transArchive_201105\n"
     ]
    },
    {
     "name": "stderr",
     "output_type": "stream",
     "text": [
      "100%|█████████████████████████████████████████████████████████████████████████████████████████████████████████████████████████| 1/1 [00:00<00:00, 5454.23it/s]\n"
     ]
    },
    {
     "name": "stdout",
     "output_type": "stream",
     "text": [
      "transArchive_201110_201112_small.csv\n",
      "transArchive_201110_201112\n"
     ]
    },
    {
     "name": "stderr",
     "output_type": "stream",
     "text": [
      "100%|█████████████████████████████████████████████████████████████████████████████████████████████████████████████████████████| 1/1 [00:00<00:00, 5047.30it/s]\n"
     ]
    },
    {
     "name": "stdout",
     "output_type": "stream",
     "text": [
      "transArchive_201304_201306_small.csv\n",
      "transArchive_201304_201306\n"
     ]
    },
    {
     "name": "stderr",
     "output_type": "stream",
     "text": [
      "100%|█████████████████████████████████████████████████████████████████████████████████████████████████████████████████████████| 1/1 [00:00<00:00, 6909.89it/s]\n"
     ]
    },
    {
     "name": "stdout",
     "output_type": "stream",
     "text": [
      "transArchive_201404_201406_inactive_small.csv\n",
      "transArchive_201404_201406_inactive\n"
     ]
    },
    {
     "name": "stderr",
     "output_type": "stream",
     "text": [
      "100%|█████████████████████████████████████████████████████████████████████████████████████████████████████████████████████████| 1/1 [00:00<00:00, 5698.78it/s]\n"
     ]
    },
    {
     "name": "stdout",
     "output_type": "stream",
     "text": [
      "transArchive_201504_201506_small.csv\n",
      "transArchive_201504_201506\n"
     ]
    },
    {
     "name": "stderr",
     "output_type": "stream",
     "text": [
      "100%|█████████████████████████████████████████████████████████████████████████████████████████████████████████████████████████| 1/1 [00:00<00:00, 9915.61it/s]\n"
     ]
    },
    {
     "name": "stdout",
     "output_type": "stream",
     "text": [
      "transArchive_201612_small.csv\n",
      "transArchive_201612\n"
     ]
    },
    {
     "name": "stderr",
     "output_type": "stream",
     "text": [
      "100%|█████████████████████████████████████████████████████████████████████████████████████████████████████████████████████████| 1/1 [00:00<00:00, 5907.47it/s]\n"
     ]
    },
    {
     "name": "stdout",
     "output_type": "stream",
     "text": [
      "transArchive_201606_small.csv\n",
      "transArchive_201606\n"
     ]
    },
    {
     "name": "stderr",
     "output_type": "stream",
     "text": [
      "100%|█████████████████████████████████████████████████████████████████████████████████████████████████████████████████████████| 1/1 [00:00<00:00, 9709.04it/s]\n"
     ]
    },
    {
     "name": "stdout",
     "output_type": "stream",
     "text": [
      "transArchive_201401_201403_inactive_small.csv\n",
      "transArchive_201401_201403_inactive\n"
     ]
    },
    {
     "name": "stderr",
     "output_type": "stream",
     "text": [
      "100%|█████████████████████████████████████████████████████████████████████████████████████████████████████████████████████████| 1/1 [00:00<00:00, 3600.26it/s]\n"
     ]
    },
    {
     "name": "stdout",
     "output_type": "stream",
     "text": [
      "transArchive_201407_201409_small.csv\n",
      "transArchive_201407_201409\n"
     ]
    },
    {
     "name": "stderr",
     "output_type": "stream",
     "text": [
      "100%|█████████████████████████████████████████████████████████████████████████████████████████████████████████████████████████| 1/1 [00:00<00:00, 5660.33it/s]\n"
     ]
    },
    {
     "name": "stdout",
     "output_type": "stream",
     "text": [
      "transArchive_201201_201203_inactive_small.csv\n",
      "transArchive_201201_201203_inactive\n"
     ]
    },
    {
     "name": "stderr",
     "output_type": "stream",
     "text": [
      "100%|█████████████████████████████████████████████████████████████████████████████████████████████████████████████████████████| 1/1 [00:00<00:00, 6797.90it/s]\n"
     ]
    },
    {
     "name": "stdout",
     "output_type": "stream",
     "text": [
      "transArchive_201301_201303_inactive_small.csv\n",
      "transArchive_201301_201303_inactive\n"
     ]
    },
    {
     "name": "stderr",
     "output_type": "stream",
     "text": [
      "100%|█████████████████████████████████████████████████████████████████████████████████████████████████████████████████████████| 1/1 [00:00<00:00, 7244.05it/s]\n"
     ]
    },
    {
     "name": "stdout",
     "output_type": "stream",
     "text": [
      "transArchive_201310_201312_inactive_small.csv\n",
      "transArchive_201310_201312_inactive\n"
     ]
    },
    {
     "name": "stderr",
     "output_type": "stream",
     "text": [
      "100%|█████████████████████████████████████████████████████████████████████████████████████████████████████████████████████████| 1/1 [00:00<00:00, 4029.11it/s]\n"
     ]
    },
    {
     "name": "stdout",
     "output_type": "stream",
     "text": [
      "transArchive_201107_201109_small.csv\n",
      "transArchive_201107_201109\n"
     ]
    },
    {
     "name": "stderr",
     "output_type": "stream",
     "text": [
      "100%|█████████████████████████████████████████████████████████████████████████████████████████████████████████████████████████| 1/1 [00:00<00:00, 7133.17it/s]\n"
     ]
    },
    {
     "name": "stdout",
     "output_type": "stream",
     "text": [
      "transArchive_201601_small.csv\n",
      "transArchive_201601\n"
     ]
    },
    {
     "name": "stderr",
     "output_type": "stream",
     "text": [
      "100%|█████████████████████████████████████████████████████████████████████████████████████████████████████████████████████████| 1/1 [00:00<00:00, 9799.78it/s]\n"
     ]
    },
    {
     "name": "stdout",
     "output_type": "stream",
     "text": [
      "transArchive_201210_201212_inactive_small.csv\n",
      "transArchive_201210_201212_inactive\n"
     ]
    },
    {
     "name": "stderr",
     "output_type": "stream",
     "text": [
      "100%|█████████████████████████████████████████████████████████████████████████████████████████████████████████████████████████| 1/1 [00:00<00:00, 5497.12it/s]\n"
     ]
    },
    {
     "name": "stdout",
     "output_type": "stream",
     "text": [
      "transArchive_201010_201012_small.csv\n",
      "transArchive_201010_201012\n"
     ]
    },
    {
     "name": "stderr",
     "output_type": "stream",
     "text": [
      "100%|█████████████████████████████████████████████████████████████████████████████████████████████████████████████████████████| 1/1 [00:00<00:00, 6700.17it/s]\n"
     ]
    },
    {
     "name": "stdout",
     "output_type": "stream",
     "text": [
      "transArchive_201204_201206_small.csv\n",
      "transArchive_201204_201206\n"
     ]
    },
    {
     "name": "stderr",
     "output_type": "stream",
     "text": [
      "100%|████████████████████████████████████████████████████████████████████████████████████████████████████████████████████████| 1/1 [00:00<00:00, 11305.40it/s]\n"
     ]
    },
    {
     "name": "stdout",
     "output_type": "stream",
     "text": [
      "transArchive_201410_201412_inactive_small.csv\n",
      "transArchive_201410_201412_inactive\n"
     ]
    },
    {
     "name": "stderr",
     "output_type": "stream",
     "text": [
      "100%|█████████████████████████████████████████████████████████████████████████████████████████████████████████████████████████| 1/1 [00:00<00:00, 3274.24it/s]\n"
     ]
    },
    {
     "name": "stdout",
     "output_type": "stream",
     "text": [
      "transArchive_201210_201212_small.csv\n",
      "transArchive_201210_201212\n"
     ]
    },
    {
     "name": "stderr",
     "output_type": "stream",
     "text": [
      "100%|█████████████████████████████████████████████████████████████████████████████████████████████████████████████████████████| 1/1 [00:00<00:00, 2906.66it/s]\n"
     ]
    },
    {
     "name": "stdout",
     "output_type": "stream",
     "text": [
      "transArchive_201104_small.csv\n",
      "transArchive_201104\n"
     ]
    },
    {
     "name": "stderr",
     "output_type": "stream",
     "text": [
      "100%|█████████████████████████████████████████████████████████████████████████████████████████████████████████████████████████| 1/1 [00:00<00:00, 5405.03it/s]\n"
     ]
    },
    {
     "name": "stdout",
     "output_type": "stream",
     "text": [
      "transArchive_201307_201309_small.csv\n",
      "transArchive_201307_201309\n"
     ]
    },
    {
     "name": "stderr",
     "output_type": "stream",
     "text": [
      "100%|█████████████████████████████████████████████████████████████████████████████████████████████████████████████████████████| 1/1 [00:00<00:00, 8144.28it/s]\n"
     ]
    },
    {
     "name": "stdout",
     "output_type": "stream",
     "text": [
      "transArchive_201512_small.csv\n",
      "transArchive_201512\n"
     ]
    },
    {
     "name": "stderr",
     "output_type": "stream",
     "text": [
      "100%|█████████████████████████████████████████████████████████████████████████████████████████████████████████████████████████| 1/1 [00:00<00:00, 9238.56it/s]\n"
     ]
    },
    {
     "name": "stdout",
     "output_type": "stream",
     "text": [
      "transArchive_201004_201006_small.csv\n",
      "transArchive_201004_201006\n"
     ]
    },
    {
     "name": "stderr",
     "output_type": "stream",
     "text": [
      "100%|█████████████████████████████████████████████████████████████████████████████████████████████████████████████████████████| 1/1 [00:00<00:00, 9000.65it/s]\n"
     ]
    },
    {
     "name": "stdout",
     "output_type": "stream",
     "text": [
      "transArchive_201207_201209_inactive_small.csv\n",
      "transArchive_201207_201209_inactive\n"
     ]
    },
    {
     "name": "stderr",
     "output_type": "stream",
     "text": [
      "100%|████████████████████████████████████████████████████████████████████████████████████████████████████████████████████████| 1/1 [00:00<00:00, 25420.02it/s]\n"
     ]
    },
    {
     "name": "stdout",
     "output_type": "stream",
     "text": [
      "transArchive_201307_201309_inactive_small.csv\n",
      "transArchive_201307_201309_inactive\n"
     ]
    },
    {
     "name": "stderr",
     "output_type": "stream",
     "text": [
      "100%|█████████████████████████████████████████████████████████████████████████████████████████████████████████████████████████| 1/1 [00:00<00:00, 5216.80it/s]\n"
     ]
    },
    {
     "name": "stdout",
     "output_type": "stream",
     "text": [
      "transArchive_201507_201509_small.csv\n",
      "transArchive_201507_201509\n"
     ]
    },
    {
     "name": "stderr",
     "output_type": "stream",
     "text": [
      "100%|█████████████████████████████████████████████████████████████████████████████████████████████████████████████████████████| 1/1 [00:00<00:00, 6864.65it/s]\n"
     ]
    },
    {
     "name": "stdout",
     "output_type": "stream",
     "text": [
      "transArchive_201607_small.csv\n",
      "transArchive_201607\n"
     ]
    },
    {
     "name": "stderr",
     "output_type": "stream",
     "text": [
      "100%|█████████████████████████████████████████████████████████████████████████████████████████████████████████████████████████| 1/1 [00:00<00:00, 8924.05it/s]\n"
     ]
    },
    {
     "name": "stdout",
     "output_type": "stream",
     "text": [
      "transArchive_201410_201412_small.csv\n",
      "transArchive_201410_201412\n"
     ]
    },
    {
     "name": "stderr",
     "output_type": "stream",
     "text": [
      "100%|█████████████████████████████████████████████████████████████████████████████████████████████████████████████████████████| 1/1 [00:00<00:00, 5562.74it/s]\n"
     ]
    },
    {
     "name": "stdout",
     "output_type": "stream",
     "text": [
      "transArchive_201404_201406_small.csv\n",
      "transArchive_201404_201406\n"
     ]
    },
    {
     "name": "stderr",
     "output_type": "stream",
     "text": [
      "100%|█████████████████████████████████████████████████████████████████████████████████████████████████████████████████████████| 1/1 [00:00<00:00, 5229.81it/s]\n"
     ]
    },
    {
     "name": "stdout",
     "output_type": "stream",
     "text": [
      "transArchive_201407_201409_inactive_small.csv\n",
      "transArchive_201407_201409_inactive\n"
     ]
    },
    {
     "name": "stderr",
     "output_type": "stream",
     "text": [
      "100%|████████████████████████████████████████████████████████████████████████████████████████████████████████████████████████| 1/1 [00:00<00:00, 14364.05it/s]\n"
     ]
    },
    {
     "name": "stdout",
     "output_type": "stream",
     "text": [
      "transArchive_201602_small.csv\n",
      "transArchive_201602\n"
     ]
    },
    {
     "name": "stderr",
     "output_type": "stream",
     "text": [
      "100%|█████████████████████████████████████████████████████████████████████████████████████████████████████████████████████████| 1/1 [00:00<00:00, 7667.83it/s]\n"
     ]
    },
    {
     "name": "stdout",
     "output_type": "stream",
     "text": [
      "transArchive_201301_201303_small.csv\n",
      "transArchive_201301_201303\n"
     ]
    },
    {
     "name": "stderr",
     "output_type": "stream",
     "text": [
      "100%|████████████████████████████████████████████████████████████████████████████████████████████████████████████████████████| 1/1 [00:00<00:00, 23696.63it/s]\n"
     ]
    },
    {
     "name": "stdout",
     "output_type": "stream",
     "text": [
      "transArchive_201101_201103_small.csv\n",
      "transArchive_201101_201103\n"
     ]
    },
    {
     "name": "stderr",
     "output_type": "stream",
     "text": [
      "100%|█████████████████████████████████████████████████████████████████████████████████████████████████████████████████████████| 1/1 [00:00<00:00, 6442.86it/s]\n"
     ]
    },
    {
     "name": "stdout",
     "output_type": "stream",
     "text": [
      "transArchive_201511_small.csv\n",
      "transArchive_201511\n"
     ]
    },
    {
     "name": "stderr",
     "output_type": "stream",
     "text": [
      "100%|█████████████████████████████████████████████████████████████████████████████████████████████████████████████████████████| 1/1 [00:00<00:00, 5932.54it/s]\n"
     ]
    },
    {
     "name": "stdout",
     "output_type": "stream",
     "text": [
      "transArchive_201610_small.csv\n",
      "transArchive_201610\n"
     ]
    },
    {
     "name": "stderr",
     "output_type": "stream",
     "text": [
      "100%|████████████████████████████████████████████████████████████████████████████████████████████████████████████████████████| 1/1 [00:00<00:00, 20661.60it/s]\n"
     ]
    },
    {
     "name": "stdout",
     "output_type": "stream",
     "text": [
      "transArchive_201604_small.csv\n",
      "transArchive_201604\n"
     ]
    },
    {
     "name": "stderr",
     "output_type": "stream",
     "text": [
      "100%|█████████████████████████████████████████████████████████████████████████████████████████████████████████████████████████| 1/1 [00:00<00:00, 5053.38it/s]\n"
     ]
    },
    {
     "name": "stdout",
     "output_type": "stream",
     "text": [
      "transArchive_201501_201503_small.csv\n",
      "transArchive_201501_201503\n"
     ]
    },
    {
     "name": "stderr",
     "output_type": "stream",
     "text": [
      "100%|████████████████████████████████████████████████████████████████████████████████████████████████████████████████████████| 1/1 [00:00<00:00, 10810.06it/s]\n"
     ]
    },
    {
     "name": "stdout",
     "output_type": "stream",
     "text": [
      "transArchive_201609_small.csv\n",
      "transArchive_201609\n"
     ]
    },
    {
     "name": "stderr",
     "output_type": "stream",
     "text": [
      "100%|█████████████████████████████████████████████████████████████████████████████████████████████████████████████████████████| 1/1 [00:00<00:00, 6195.43it/s]\n"
     ]
    },
    {
     "name": "stdout",
     "output_type": "stream",
     "text": [
      "transArchive_201001_201003_small.csv\n",
      "transArchive_201001_201003\n"
     ]
    },
    {
     "name": "stderr",
     "output_type": "stream",
     "text": [
      "100%|█████████████████████████████████████████████████████████████████████████████████████████████████████████████████████████| 1/1 [00:00<00:00, 6069.90it/s]\n"
     ]
    },
    {
     "name": "stdout",
     "output_type": "stream",
     "text": [
      "transArchive_201603_small.csv\n",
      "transArchive_201603\n"
     ]
    },
    {
     "name": "stderr",
     "output_type": "stream",
     "text": [
      "100%|████████████████████████████████████████████████████████████████████████████████████████████████████████████████████████| 1/1 [00:00<00:00, 10645.44it/s]\n"
     ]
    },
    {
     "name": "stdout",
     "output_type": "stream",
     "text": [
      "transArchive_201106_small.csv\n",
      "transArchive_201106\n"
     ]
    },
    {
     "name": "stderr",
     "output_type": "stream",
     "text": [
      "100%|█████████████████████████████████████████████████████████████████████████████████████████████████████████████████████████| 1/1 [00:00<00:00, 8322.03it/s]\n"
     ]
    },
    {
     "name": "stdout",
     "output_type": "stream",
     "text": [
      "transArchive_201201_201203_small.csv\n",
      "transArchive_201201_201203\n"
     ]
    },
    {
     "name": "stderr",
     "output_type": "stream",
     "text": [
      "100%|█████████████████████████████████████████████████████████████████████████████████████████████████████████████████████████| 1/1 [00:00<00:00, 7384.34it/s]\n"
     ]
    },
    {
     "name": "stdout",
     "output_type": "stream",
     "text": [
      "transArchive_201510_small.csv\n",
      "transArchive_201510\n"
     ]
    },
    {
     "name": "stderr",
     "output_type": "stream",
     "text": [
      "100%|█████████████████████████████████████████████████████████████████████████████████████████████████████████████████████████| 1/1 [00:00<00:00, 6384.02it/s]\n"
     ]
    },
    {
     "name": "stdout",
     "output_type": "stream",
     "text": [
      "transArchive_201605_small.csv\n",
      "transArchive_201605\n"
     ]
    },
    {
     "name": "stderr",
     "output_type": "stream",
     "text": [
      "100%|████████████████████████████████████████████████████████████████████████████████████████████████████████████████████████| 1/1 [00:00<00:00, 15307.68it/s]\n"
     ]
    },
    {
     "name": "stdout",
     "output_type": "stream",
     "text": [
      "transArchive_201401_201403_small.csv\n",
      "transArchive_201401_201403\n"
     ]
    },
    {
     "name": "stderr",
     "output_type": "stream",
     "text": [
      "100%|█████████████████████████████████████████████████████████████████████████████████████████████████████████████████████████| 1/1 [00:00<00:00, 4466.78it/s]\n"
     ]
    },
    {
     "name": "stdout",
     "output_type": "stream",
     "text": [
      "transArchive_201611_small.csv\n",
      "transArchive_201611\n"
     ]
    },
    {
     "name": "stderr",
     "output_type": "stream",
     "text": [
      "100%|█████████████████████████████████████████████████████████████████████████████████████████████████████████████████████████| 1/1 [00:00<00:00, 6307.22it/s]\n"
     ]
    },
    {
     "name": "stdout",
     "output_type": "stream",
     "text": [
      "transArchive_201608_small.csv\n",
      "transArchive_201608\n"
     ]
    },
    {
     "name": "stderr",
     "output_type": "stream",
     "text": [
      "100%|█████████████████████████████████████████████████████████████████████████████████████████████████████████████████████████| 1/1 [00:00<00:00, 3512.82it/s]\n"
     ]
    },
    {
     "name": "stdout",
     "output_type": "stream",
     "text": [
      "transArchive_201701_small.csv\n",
      "transArchive_201701\n"
     ]
    },
    {
     "name": "stderr",
     "output_type": "stream",
     "text": [
      "100%|████████████████████████████████████████████████████████████████████████████████████████████████████████████████████████| 1/1 [00:00<00:00, 16320.25it/s]"
     ]
    },
    {
     "name": "stdout",
     "output_type": "stream",
     "text": [
      "Completed Uploads!\n"
     ]
    },
    {
     "name": "stderr",
     "output_type": "stream",
     "text": [
      "\n"
     ]
    }
   ],
   "source": [
    "# 1. Read in the items files one at a time.\n",
    "for file_name in data_files :\n",
    "    print(file_name)\n",
    "    \n",
    "    delimiter = get_delimiter(file_name)\n",
    "    \n",
    "    header = get_header(file_name)\n",
    "    \n",
    "    # https://stackoverflow.com/a/27232309\n",
    "    transactions = pd.read_csv(working_directory+file_name, \n",
    "                               header=header, \n",
    "                               names=data_columns(), \n",
    "                               dtype=dtype_columns(),\n",
    "                               delimiter=delimiter,\n",
    "                               na_filter=False,\n",
    "                               na_values=['nan', 'NaN', 'null', 'NULL', '\\\\N'],\n",
    "                               escapechar=\"\\\\\"\n",
    "                              ) #\n",
    "    \n",
    "    transactions['datetime'] = transactions['datetime'].astype('datetime64[ns]')\n",
    "    \n",
    "    transactions['register_no'] = transactions['register_no'].astype('int')\n",
    "    transactions['emp_no'] = transactions['register_no'].astype('int')\n",
    "    transactions['trans_no'] = transactions['register_no'].astype('int')\n",
    "    transactions['department'] = transactions['department'].astype('int')\n",
    "    transactions['quantity'] = transactions['quantity'].astype('float')\n",
    "    transactions['Scale'] = transactions['Scale'].astype('float')\n",
    "    transactions['cost'] = transactions['cost'].astype('float')\n",
    "    transactions['unitPrice'] = transactions['unitPrice'].astype('float')\n",
    "    transactions['total'] = transactions['total'].astype('float')\n",
    "    transactions['regPrice'] = transactions['regPrice'].astype('float')\n",
    "    # transactions['altPrice'] = transactions['altPrice'].astype('float')\n",
    "    transactions['tax'] = transactions['tax'].astype('int')\n",
    "    transactions['foodstamp'] = transactions['foodstamp'].astype('int')\n",
    "    \n",
    "    transactions['trans_id'] = transactions['trans_id'].astype('int')\n",
    "  \n",
    "\n",
    "    # Construct table name from index\n",
    "    table_name = file_name.replace(\".csv\",\"\").replace(\"_small\",\"\").replace(\".\",\"-\").replace(\"/\",\"-\")\n",
    "    # print(type(name))\n",
    "    print(table_name)\n",
    "    table_id = \".\".join([gbq_proj_id,dataset_id,table_name])\n",
    "    pandas_gbq.to_gbq(transactions, table_id, project_id=gbq_proj_id,if_exists=\"replace\") # let's discuss this last bit\n",
    "\n",
    "# print(transactions.columns)\n",
    "# print(transactions.dtypes)\n",
    "    \n",
    "print(\"Completed Uploads!\")"
   ]
  },
  {
   "cell_type": "code",
   "execution_count": null,
   "id": "9b8aac2c",
   "metadata": {},
   "outputs": [],
   "source": []
  },
  {
   "cell_type": "code",
   "execution_count": 23,
   "id": "060eecf1",
   "metadata": {},
   "outputs": [],
   "source": [
    "# print(zf.namelist())\n",
    "    # zipped_files = zf.namelist()\n",
    "    # display_zip_contents(zipped_files)\n",
    "    \n",
    "#     for file_name in zipped_files :\n",
    "#         # Ignore __MACOSX hidden files\n",
    "#         if(file_name.startswith( '__' )):\n",
    "#             continue\n",
    "#         # Ignore folders\n",
    "#         if(file_name.endswith( '/' )):\n",
    "#             continue\n",
    "\n",
    "#         for tmp_file_name in tmp_zipped_files :\n",
    "#                 data_files.append(tmp_file_name)\n",
    "            \n",
    "        # print(\"File: \", file_name,\" Size:\", os.path.getsize(working_directory+file_name))\n",
    "#         with ZipFile(working_directory+file_name, 'r') as zftmp :\n",
    "#             zftmp.extractall(working_directory)\n",
    "#             tmp_zipped_files = zftmp.namelist()\n",
    "#             # display_zip_contents(tmp_zipped_files)\n",
    "#             for tmp_file_name in tmp_zipped_files :\n",
    "#                 data_files.append(tmp_file_name)"
   ]
  },
  {
   "cell_type": "code",
   "execution_count": null,
   "id": "3eaba1c8",
   "metadata": {},
   "outputs": [],
   "source": []
  },
  {
   "cell_type": "code",
   "execution_count": 155,
   "id": "80e5b5d7",
   "metadata": {},
   "outputs": [
    {
     "data": {
      "text/plain": [
       "{'datetime': 'string',\n",
       " 'register_no': 'string',\n",
       " 'emp_no': 'string',\n",
       " 'trans_no': 'string',\n",
       " 'Upc': 'string',\n",
       " 'description': 'string',\n",
       " 'trans_type': 'string',\n",
       " 'trans_subtype': 'string',\n",
       " 'trans_status': 'string',\n",
       " 'department': 'string',\n",
       " 'quantity': 'string',\n",
       " 'Scale': 'string',\n",
       " 'cost': 'string',\n",
       " 'unitPrice': 'string',\n",
       " 'total': 'string',\n",
       " 'regPrice': 'string',\n",
       " 'altPrice': 'string',\n",
       " 'tax': 'string',\n",
       " 'taxexempt': 'string',\n",
       " 'foodstamp': 'string',\n",
       " 'wicable': 'string',\n",
       " 'discount': 'string',\n",
       " 'memDiscount': 'string',\n",
       " 'discountable': 'string',\n",
       " 'discounttype': 'string',\n",
       " 'voided': 'string',\n",
       " 'percentDiscount': 'string',\n",
       " 'ItemQtty': 'string',\n",
       " 'volDiscType': 'string',\n",
       " 'volume': 'string',\n",
       " 'VolSpecial': 'string',\n",
       " 'mixMatch': 'string',\n",
       " 'matched': 'string',\n",
       " 'memType': 'string',\n",
       " 'staff': 'string',\n",
       " 'numflag': 'string',\n",
       " 'Itemstatus': 'string',\n",
       " 'tenderstatus': 'string',\n",
       " 'charflag': 'string',\n",
       " 'varflag': 'string',\n",
       " 'batchHeaderID': 'string',\n",
       " 'local': 'string',\n",
       " 'organic': 'string',\n",
       " 'display': 'string',\n",
       " 'receipt': 'string',\n",
       " 'card_no': 'string',\n",
       " 'store': 'string',\n",
       " 'branch': 'string',\n",
       " 'match_id': 'string',\n",
       " 'trans_id': 'string'}"
      ]
     },
     "execution_count": 155,
     "metadata": {},
     "output_type": "execute_result"
    }
   ],
   "source": [
    "def process_file(file_name):\n",
    "    # print(file_name)\n",
    "    data = pd.read_csv(working_directory+file_name, low_memory=False)\n",
    "  \n",
    "    # 2. Do the same cleaning we did in Part 1 (clean names, \n",
    "    #    make sku an empty string, fix dollars, make modifiers_applied a string)\n",
    "    data = cleanup_data(data)\n",
    "    upload_data(data)\n",
    "\n",
    "\n",
    "def data_columns():\n",
    "    # https://www.geeksforgeeks.org/add-column-names-to-dataframe-in-pandas/\n",
    "    columns = []\n",
    "    # 1.\tdatetime: timestamp of the transaction-row creation   \n",
    "    columns.append('datetime') # \n",
    "    # 2.\tregister_no: register for transaction\n",
    "    columns.append('register_no') # \n",
    "    # 3.\temp_no: employee number for cashier   \n",
    "    columns.append('emp_no') # \n",
    "    # 4.\ttrans_no: transaction number. This number counts up by day and is only unique when combined with date, columns.append('trans_no') # register and employee.\n",
    "    columns.append('trans_no')\n",
    "    # 5.\tUpc: Universal Product Code for the item. 0 for non-items.\n",
    "    columns.append('Upc') # \n",
    "    # 6.\tdescription: product description. Includes things like Tax, Tender type, etc.   \n",
    "    columns.append('description') # \n",
    "    # 7.\ttrans_type: One of five values (D, G, A, T, and I). These correspond to the following types of columns.append('trans_type') # transactions:\n",
    "    # •\tD: Departmental rings, when the cashier just selects a department for the item.\n",
    "    # •\tG: Green patch donations. This is the donation made for shoppers who bring their own bag. \n",
    "    # •\tA: Tax\n",
    "    # •\tT: Tender, the payment row.\n",
    "    # •\tI: Items, but also includes discounts. \n",
    "    columns.append('trans_type')\n",
    "    # 8.\ttrans_subtype: There are a lot of these. Key ones include methods of payment (CK for Check, CA for columns.append('trans_subtype') # Cash, CP for coupon, EF for EBT Food Stamps , WC for WIC). These are often blank for other trans_type values.\n",
    "    columns.append('trans_subtype')\n",
    "    # 9.\ttrans_status: An important field. The field trans_status tells us more about the types transactions. columns.append('trans_status') # Here are the possible values:\n",
    "    # •\tBlank: The typical value.\n",
    "    # •\tM: Member discounts.\n",
    "    # •\tV: Voids \n",
    "    # •\tC: Coupons\n",
    "    # •\t0: Honestly, I think these are supposed to be blanks but they changed from 0s at some point in February 2010. \n",
    "    # •\tR: Returns.\n",
    "    # •\tJ: Juice club cards\n",
    "    columns.append('trans_status')\n",
    "    # 10.\tdepartment: The number of the department. See the next appendix for a department lookup table.\n",
    "    columns.append('department') # \n",
    "    # 11.\tquantity: The purchased quantity. Beware, some items such as flowers and bulk vegetables are priced per  # cent and then sold in very large quantities (like 1000 for a $10 bouquet.)   \n",
    "    columns.append('quantity')\n",
    "    # 12.\tScale: The reading on the scale. Note that the capital here is not a typo. This is one field that \n",
    "    columns.append('Scale') # weirdly has a capital first letter.    \n",
    "    # 13.\tcost: the per-unit cost of an item to the Wedge. This is not uniformly populated. \n",
    "    columns.append('cost') # \n",
    "    # 14.\tunitPrice:  the per-unit cost of an item to an owner. Negative for things like returns and discounts.\n",
    "    columns.append('unitPrice') # \n",
    "    # 15.\ttotal: price times quantity. The cost of the line item. Note that this can be negative because columns.append('total') # unitPrice can be negative.     \n",
    "    columns.append('total')\n",
    "    # 16.\tregPrice: The regular price of an item. May be different from unitPrice but unitPrice plus discount columns.append('regPrice') # should be regPrice.   \n",
    "    columns.append('regPrice')\n",
    "    # 17.\taltPrice\n",
    "    columns.append('altPrice') # \n",
    "    # 18.\ttax: an indicator of whether or not the item is taxable.   \n",
    "    columns.append('tax') # \n",
    "    # 19.\ttaxexempt: mostly zero.   \n",
    "    columns.append('taxexempt') # \n",
    "    # 20.\tfoodstamp: can the item be purchased with food stamps?   \n",
    "    columns.append('foodstamp') # \n",
    "    # 21.\twicable: can the item be purchased with WIC?   \n",
    "    columns.append('wicable') # \n",
    "    # 22.\tdiscount: a marker of any discounts.    \n",
    "    columns.append('discount') # \n",
    "    # 23.\tmemDiscount: the member discounts on items.   \n",
    "    columns.append('memDiscount') # \n",
    "    # 24.\tdiscountable: beats me.   \n",
    "    columns.append('discountable') # \n",
    "    # 25.\tdiscounttype: there’s probably information in here, but I haven’t decoded it.\n",
    "    columns.append('discounttype') # \n",
    "    # 26.\tvoided: I think it’s used if an item is a void or if an item was run up and subsequently voided.   \n",
    "    columns.append('voided') # \n",
    "    # 27.\tpercentDiscount: I don’t use it.   \n",
    "    columns.append('percentDiscount') # \n",
    "    # 28.\tItemQtty: I’m not sure what this is.   \n",
    "    columns.append('ItemQtty') # \n",
    "    # 29.\tvolDiscType: Ditto   \n",
    "    columns.append('volDiscType') # \n",
    "    # 30.\tvolume: Ditto\n",
    "    columns.append('volume') # \n",
    "    # 31.\tVolSpecial: Ditto   \n",
    "    columns.append('VolSpecial') # \n",
    "    # 32.\tmixMatch: Ditto   \n",
    "    columns.append('mixMatch') # \n",
    "    # 33.\tmatched: Ditto   \n",
    "    columns.append('matched') # \n",
    "    # 34.\tmemType: Mostly NULL or 1, but I’m not sure what it signifies. Maybe institutional memberships?   \n",
    "    columns.append('memType') # \n",
    "    # 35.\tstaff: indicative of staff transactions perhaps?   \n",
    "    columns.append('staff') # \n",
    "    # 36.\tnumflag: A complicated bitflag that encodes a bunch of other information. I’ll add the communication on columns.append('numflag') # this topic to an appendix below, but it’s not critical for our purposes.   \n",
    "    columns.append('numflag')\n",
    "    # 37.\tItemstatus: Don’t know   \n",
    "    columns.append('Itemstatus') # \n",
    "    # 38.\ttenderstatus: Ditto   \n",
    "    columns.append('tenderstatus') # \n",
    "    # 39.\tcharflag: Ditto   \n",
    "    columns.append('charflag') # \n",
    "    # 40.\tvarflag: Ditto   \n",
    "    columns.append('varflag') # \n",
    "    # 41.\tbatchHeaderID: Ditto   \n",
    "    columns.append('batchHeaderID') # \n",
    "    # 42.\tlocal: is the item local?   \n",
    "    columns.append('local') # \n",
    "    # 43.\torganic: is the item organic?   \n",
    "    columns.append('organic') # \n",
    "    # 44.\tdisplay: Don’t know.   \n",
    "    columns.append('display') # \n",
    "    # 45.\treceipt: Ditto   \n",
    "    columns.append('receipt') # \n",
    "    # 46.\tcard_no: This one is important. This is the masked owner number for the transaction. It is an integer. columns.append('card_no') # If the value is 3, then the transaction is for a non-owner. You’ll find some owners (like 11572) that have a huge number of transactions. These are likely other co-ops. If you are a member of, say, the Seward Co-op you can receive discounts at the Wedge. The cashier selects your co-op and the receipt is flagged as being from that co-op.    \n",
    "    columns.append('card_no')\n",
    "    # 47.\tstore: 1 for the main store and 512 for catering.   \n",
    "    columns.append('store') # \n",
    "    # 48.\tbranch: 0 for the main store and 3 for the Wedge Table, a grab-and-go bodega they opened in January columns.append('branch') # 2015.  \n",
    "    columns.append('branch')\n",
    "    # 49.\tmatch_id: don’t know   \n",
    "    columns.append('match_id') # \n",
    "    # 50.\ttrans_id: a counter that increments the line items of a receipt.\n",
    "    columns.append('trans_id') # \n",
    "    # print(columns)\n",
    "    return columns\n",
    "\n",
    "\n",
    "def dtype_columns():\n",
    "    # https://www.geeksforgeeks.org/add-column-names-to-dataframe-in-pandas/\n",
    "    columns = {}\n",
    "    # 1.\tdatetime: timestamp of the transaction-row creation   \n",
    "    columns.update({'datetime':'string'}) # \n",
    "    # 2.\tregister_no: register for transaction\n",
    "    columns.update({'register_no':'string'}) # \n",
    "    # 3.\temp_no: employee number for cashier   \n",
    "    columns.update({'emp_no':'string'}) # \n",
    "    # 4.\ttrans_no: transaction number. This number counts up by day and is only unique when combined with date, columns.update({'trans_no':'string'}) # register and employee.\n",
    "    columns.update({'trans_no':'string'})\n",
    "    # 5.\tUpc: Universal Product Code for the item. 0 for non-items.\n",
    "    columns.update({'Upc':'string'}) # \n",
    "    # 6.\tdescription: product description. Includes things like Tax, Tender type, etc.   \n",
    "    columns.update({'description':'string'}) # \n",
    "    # 7.\ttrans_type: One of five values (D, G, A, T, and I). These correspond to the following types of columns.update({'trans_type':'string'}) # transactions:\n",
    "    # •\tD: Departmental rings, when the cashier just selects a department for the item.\n",
    "    # •\tG: Green patch donations. This is the donation made for shoppers who bring their own bag. \n",
    "    # •\tA: Tax\n",
    "    # •\tT: Tender, the payment row.\n",
    "    # •\tI: Items, but also includes discounts. \n",
    "    columns.update({'trans_type':'string'})\n",
    "    # 8.\ttrans_subtype: There are a lot of these. Key ones include methods of payment (CK for Check, CA for columns.update({'trans_subtype':'string'}) # Cash, CP for coupon, EF for EBT Food Stamps , WC for WIC). These are often blank for other trans_type values.\n",
    "    columns.update({'trans_subtype':'string'})\n",
    "    # 9.\ttrans_status: An important field. The field trans_status tells us more about the types transactions. columns.update({'trans_status':'string'}) # Here are the possible values:\n",
    "    # •\tBlank: The typical value.\n",
    "    # •\tM: Member discounts.\n",
    "    # •\tV: Voids \n",
    "    # •\tC: Coupons\n",
    "    # •\t0: Honestly, I think these are supposed to be blanks but they changed from 0s at some point in February 2010. \n",
    "    # •\tR: Returns.\n",
    "    # •\tJ: Juice club cards\n",
    "    columns.update({'trans_status':'string'})\n",
    "    # 10.\tdepartment: The number of the department. See the next appendix for a department lookup table.\n",
    "    columns.update({'department':'string'}) # \n",
    "    # 11.\tquantity: The purchased quantity. Beware, some items such as flowers and bulk vegetables are priced per  # cent and then sold in very large quantities (like 1000 for a $10 bouquet.)   \n",
    "    columns.update({'quantity':'string'})\n",
    "    # 12.\tScale: The reading on the scale. Note that the capital here is not a typo. This is one field that \n",
    "    columns.update({'Scale':'string'}) # weirdly has a capital first letter.    \n",
    "    # 13.\tcost: the per-unit cost of an item to the Wedge. This is not uniformly populated. \n",
    "    columns.update({'cost':'string'}) # \n",
    "    # 14.\tunitPrice:  the per-unit cost of an item to an owner. Negative for things like returns and discounts.\n",
    "    columns.update({'unitPrice':'string'}) # \n",
    "    # 15.\ttotal: price times quantity. The cost of the line item. Note that this can be negative because columns.update({'total':'string'}) # unitPrice can be negative.     \n",
    "    columns.update({'total':'string'})\n",
    "    # 16.\tregPrice: The regular price of an item. May be different from unitPrice but unitPrice plus discount columns.update({'regPrice':'string'}) # should be regPrice.   \n",
    "    columns.update({'regPrice':'string'})\n",
    "    # 17.\taltPrice\n",
    "    columns.update({'altPrice':'string'}) # \n",
    "    # 18.\ttax: an indicator of whether or not the item is taxable.   \n",
    "    columns.update({'tax':'string'}) # \n",
    "    # 19.\ttaxexempt: mostly zero.   \n",
    "    columns.update({'taxexempt':'string'}) # \n",
    "    # 20.\tfoodstamp: can the item be purchased with food stamps?   \n",
    "    columns.update({'foodstamp':'string'}) # \n",
    "    # 21.\twicable: can the item be purchased with WIC?   \n",
    "    columns.update({'wicable':'string'}) # \n",
    "    # 22.\tdiscount: a marker of any discounts.    \n",
    "    columns.update({'discount':'string'}) # \n",
    "    # 23.\tmemDiscount: the member discounts on items.   \n",
    "    columns.update({'memDiscount':'string'}) # \n",
    "    # 24.\tdiscountable: beats me.   \n",
    "    columns.update({'discountable':'string'}) # \n",
    "    # 25.\tdiscounttype: there’s probably information in here, but I haven’t decoded it.\n",
    "    columns.update({'discounttype':'string'}) # \n",
    "    # 26.\tvoided: I think it’s used if an item is a void or if an item was run up and subsequently voided.   \n",
    "    columns.update({'voided':'string'}) # \n",
    "    # 27.\tpercentDiscount: I don’t use it.   \n",
    "    columns.update({'percentDiscount':'string'}) # \n",
    "    # 28.\tItemQtty: I’m not sure what this is.   \n",
    "    columns.update({'ItemQtty':'string'}) # \n",
    "    # 29.\tvolDiscType: Ditto   \n",
    "    columns.update({'volDiscType':'string'}) # \n",
    "    # 30.\tvolume: Ditto\n",
    "    columns.update({'volume':'string'}) # \n",
    "    # 31.\tVolSpecial: Ditto   \n",
    "    columns.update({'VolSpecial':'string'}) # \n",
    "    # 32.\tmixMatch: Ditto   \n",
    "    columns.update({'mixMatch':'string'}) # \n",
    "    # 33.\tmatched: Ditto   \n",
    "    columns.update({'matched':'string'}) # \n",
    "    # 34.\tmemType: Mostly NULL or 1, but I’m not sure what it signifies. Maybe institutional memberships?   \n",
    "    columns.update({'memType':'string'}) # \n",
    "    # 35.\tstaff: indicative of staff transactions perhaps?   \n",
    "    columns.update({'staff':'string'}) # \n",
    "    # 36.\tnumflag: A complicated bitflag that encodes a bunch of other information. I’ll add the communication on columns.update({'numflag':'string'}) # this topic to an appendix below, but it’s not critical for our purposes.   \n",
    "    columns.update({'numflag':'string'})\n",
    "    # 37.\tItemstatus: Don’t know   \n",
    "    columns.update({'Itemstatus':'string'}) # \n",
    "    # 38.\ttenderstatus: Ditto   \n",
    "    columns.update({'tenderstatus':'string'}) # \n",
    "    # 39.\tcharflag: Ditto   \n",
    "    columns.update({'charflag':'string'}) # \n",
    "    # 40.\tvarflag: Ditto   \n",
    "    columns.update({'varflag':'string'}) # \n",
    "    # 41.\tbatchHeaderID: Ditto   \n",
    "    columns.update({'batchHeaderID':'string'}) # \n",
    "    # 42.\tlocal: is the item local?   \n",
    "    columns.update({'local':'string'}) # \n",
    "    # 43.\torganic: is the item organic?   \n",
    "    columns.update({'organic':'string'}) # \n",
    "    # 44.\tdisplay: Don’t know.   \n",
    "    columns.update({'display':'string'}) # \n",
    "    # 45.\treceipt: Ditto   \n",
    "    columns.update({'receipt':'string'}) # \n",
    "    # 46.\tcard_no: This one is important. This is the masked owner number for the transaction. It is an integer. If the value is 3, then the transaction is for a non-owner. You’ll find some owners (like 11572) that have a huge number of transactions. These are likely other co-ops. If you are a member of, say, the Seward Co-op you can receive discounts at the Wedge. The cashier selects your co-op and the receipt is flagged as being from that co-op.    \n",
    "    columns.update({'card_no':'string'})\n",
    "    # 47.\tstore: 1 for the main store and 512 for catering.   \n",
    "    columns.update({'store':'string'}) # \n",
    "    # 48.\tbranch: 0 for the main store and 3 for the Wedge Table, a grab-and-go bodega they opened in January 2015.  \n",
    "    columns.update({'branch':'string'})\n",
    "    # 49.\tmatch_id: don’t know   \n",
    "    columns.update({'match_id':'string'}) # \n",
    "    # 50.\ttrans_id: a counter that increments the line items of a receipt.\n",
    "    columns.update({'trans_id':'string'}) # \n",
    "    \n",
    "    # print(columns)\n",
    "\n",
    "    return columns\n",
    "\n"
   ]
  },
  {
   "cell_type": "markdown",
   "id": "9f4c050e",
   "metadata": {},
   "source": [
    "# Cleanup ALL Local Files"
   ]
  },
  {
   "cell_type": "code",
   "execution_count": 79,
   "id": "1b83e5ca",
   "metadata": {},
   "outputs": [
    {
     "name": "stdout",
     "output_type": "stream",
     "text": [
      "Done Cleanup\n",
      "Completed Exit Code 0\n"
     ]
    }
   ],
   "source": [
    "# https://linuxize.com/post/python-delete-files-and-directories/\n",
    "try:\n",
    "    shutil.rmtree(working_directory)\n",
    "    print('Done Cleanup')\n",
    "    print(\"Completed Exit Code 0\")\n",
    "except OSError as e:\n",
    "    print(\"Error: %s : %s\" % (working_directory, e.strerror))\n",
    "    print(\"Completed Exit Code -1\")\n"
   ]
  }
 ],
 "metadata": {
  "kernelspec": {
   "display_name": "Python 3 (ipykernel)",
   "language": "python",
   "name": "python3"
  },
  "language_info": {
   "codemirror_mode": {
    "name": "ipython",
    "version": 3
   },
   "file_extension": ".py",
   "mimetype": "text/x-python",
   "name": "python",
   "nbconvert_exporter": "python",
   "pygments_lexer": "ipython3",
   "version": "3.7.3"
  }
 },
 "nbformat": 4,
 "nbformat_minor": 5
}
