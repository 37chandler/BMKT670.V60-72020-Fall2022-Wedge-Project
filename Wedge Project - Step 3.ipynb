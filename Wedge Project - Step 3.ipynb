{
 "cells": [
  {
   "attachments": {},
   "cell_type": "markdown",
   "id": "00bf0d7e",
   "metadata": {},
   "source": [
    "# The Wedge\n",
    "\n",
    "## Task 3: Building Summary Tables\n"
   ]
  },
  {
   "cell_type": "markdown",
   "id": "4e19c439",
   "metadata": {},
   "source": [
    "## Python Modules"
   ]
  },
  {
   "cell_type": "code",
   "execution_count": 14,
   "id": "55d8424a",
   "metadata": {},
   "outputs": [],
   "source": [
    "import os\n",
    "import io\n",
    "import shutil\n",
    "import re\n",
    "import datetime \n",
    "import csv\n",
    "\n",
    "import pandas as pd\n",
    "import numpy as np\n",
    "import pandas_gbq\n",
    "import janitor\n",
    "\n",
    "from zipfile import ZipFile # usually you'd do all these imports at the beginning\n",
    "\n",
    "# Do our imports for the code\n",
    "from google.cloud import bigquery\n",
    "from google.oauth2 import service_account\n",
    "\n",
    "# Python program to illustrate the concept\n",
    "# of threading\n",
    "# importing the threading module\n",
    "import threading\n",
    "import time\n",
    "\n",
    "from multiprocessing.pool import ThreadPool as Pool\n",
    "\n",
    "import multiprocessing\n",
    "\n",
    "import enum\n",
    "\n",
    "import sqlite3\n"
   ]
  },
  {
   "cell_type": "markdown",
   "id": "cee09c70",
   "metadata": {},
   "source": [
    "## Define Global Variables"
   ]
  },
  {
   "cell_type": "code",
   "execution_count": 22,
   "id": "79cf01be",
   "metadata": {},
   "outputs": [
    {
     "name": "stdout",
     "output_type": "stream",
     "text": [
      "Opened database successfully\n"
     ]
    }
   ],
   "source": [
    "# # Small File Sample\n",
    "# zip_file_name = \"WedgeZipOfZips_Small.zip\"\n",
    "\n",
    "## Full data Set\n",
    "zip_file_name = \"WedgeZipOfZips.zip\"\n",
    "\n",
    "# Clean data Set\n",
    "# zip_file_name = \"WedgeFiles_Clean.zip\"\n",
    "\n",
    "# Small Clean Data Set\n",
    "# zip_file_name = \"WedgeZipOfZips_Small_Clean.zip\"\n",
    "\n",
    "# CSV File Name\n",
    "csv_file_name = \"sample_transactions.csv\"\n",
    "\n",
    "# SQLite DB File Name\n",
    "db_file_name = \"summary_table.db\"\n",
    "\n",
    "# Working Directory included in .gitignore\n",
    "# working_directory = \"/media/psf/Home/Repos/BMKT670.V60-72020-Fall2022-Wedge-Project/eggs/\"\n",
    "working_directory = \"/home/blackvwgolf95/BMKT670.V60-72020-Fall2022-Wedge-Project/eggs/\"\n",
    "\n",
    "conn = sqlite3.connect(working_directory + db_file_name)\n",
    "print(\"Opened database successfully\");\n",
    "\n",
    "cursor = conn.cursor()"
   ]
  },
  {
   "cell_type": "markdown",
   "id": "d6314070",
   "metadata": {},
   "source": [
    "## Define Functions"
   ]
  },
  {
   "cell_type": "code",
   "execution_count": 3,
   "id": "4479d9ce",
   "metadata": {},
   "outputs": [],
   "source": [
    "def display_file_contents(file_name):\n",
    "    # Ignore __MACOSX hidden files\n",
    "    if(file_name.startswith( '__' )):\n",
    "        return\n",
    "    # Ignore folders\n",
    "    if(file_name.endswith( '/' )):\n",
    "        return\n",
    "\n",
    "    print(\"File: \", file_name,\n",
    "          \" Size:\", os.path.getsize(working_directory+file_name), \n",
    "          \" \", convert_unit(os.path.getsize(working_directory+file_name), SIZE_UNIT.MB ) ), \" MB\"\n",
    "    \n",
    "#https://thispointer.com/python-get-file-size-in-kb-mb-or-gb-human-readable-format/\n",
    "# Enum for size units\n",
    "class SIZE_UNIT(enum.Enum):\n",
    "   BYTES = 1\n",
    "   KB = 2\n",
    "   MB = 3\n",
    "   GB = 4\n",
    "def convert_unit(size_in_bytes, unit):\n",
    "   \"\"\" Convert the size from bytes to other units like KB, MB or GB\"\"\"\n",
    "   if unit == SIZE_UNIT.KB:\n",
    "       return size_in_bytes/1024\n",
    "   elif unit == SIZE_UNIT.MB:\n",
    "       return size_in_bytes/(1024*1024)\n",
    "   elif unit == SIZE_UNIT.GB:\n",
    "       return size_in_bytes/(1024*1024*1024)\n",
    "   else:\n",
    "       return size_in_bytes"
   ]
  },
  {
   "cell_type": "markdown",
   "id": "97e933c8",
   "metadata": {},
   "source": [
    "## GBQ Setup"
   ]
  },
  {
   "cell_type": "code",
   "execution_count": 4,
   "id": "fe5a19ea",
   "metadata": {},
   "outputs": [],
   "source": [
    "# These first two values will be different on your machine. \n",
    "# service_path = \"/Users/chandler/Dropbox/Teaching/\"\n",
    "# service_file = 'umt-msba-037daf11ee16.json' # change this to your authentication information  \n",
    "# gbq_proj_id = 'umt-msba' # change this to your project. \n",
    "# service_path = \"/media/psf/Home/Repos/\"\n",
    "service_path = \"/home/blackvwgolf95/\"\n",
    "service_file = 'bmkt670-fall2022-wedge-project-6ce4398b80e4.json' # change this to your authentication information  \n",
    "gbq_proj_id = 'bmkt670-fall2022-wedge-project' # change this to your project. \n",
    "dataset_id = 'wedgedataset'\n",
    "\n",
    "# And this should stay the same. \n",
    "private_key = service_path + service_file\n",
    "\n",
    "# Now we pass in our credentials so that Python has permission to access our project.\n",
    "credentials = service_account.Credentials.from_service_account_file(service_path + service_file)\n",
    "\n",
    "# And finally we establish our connection\n",
    "client = bigquery.Client(credentials = credentials, project=gbq_proj_id)\n",
    "\n",
    "# for item in client.list_datasets() : \n",
    "#    print(item.full_dataset_id)"
   ]
  },
  {
   "cell_type": "markdown",
   "id": "273d2145",
   "metadata": {},
   "source": [
    "## Phase 3, Summary DB"
   ]
  },
  {
   "cell_type": "markdown",
   "id": "22386b28",
   "metadata": {},
   "source": [
    "1.\tSales by date by hour: By calendar date (YYYY-MM-DD) and hour of the day, determine the total spend in the store, the number of transactions, and a count of the number of items . "
   ]
  },
  {
   "cell_type": "code",
   "execution_count": 34,
   "id": "80965bba",
   "metadata": {},
   "outputs": [
    {
     "name": "stderr",
     "output_type": "stream",
     "text": [
      "Downloading: 100%|████████████████████████████████████████████████████████████████████████████████████████████████████████████████| 39330/39330 [00:01<00:00, 20034.30rows/s]\n"
     ]
    }
   ],
   "source": [
    "query = \"\"\"\n",
    "    SELECT  EXTRACT( date FROM datetime) as date,\n",
    "        EXTRACT( hour FROM datetime) as hour,\n",
    "        ROUND( SUM(total), 2 ) as spend,        \n",
    "        COUNT( DISTINCT\n",
    "          CONCAT(\n",
    "            CAST(EXTRACT(DATE FROM `datetime`) AS STRING), \n",
    "            CAST(`register_no` AS STRING ),\n",
    "            CAST(`emp_no` AS STRING),\n",
    "            CAST(`trans_no` AS STRING)\n",
    "        ) ) AS `trans`,\n",
    "        SUM( CASE WHEN `trans_status` IN ( 'V', 'R' ) THEN -1\n",
    "             ELSE 1 END ) AS items \n",
    "    FROM `bmkt670-fall2022-wedge-project.wedgedataset.transArchive_*` \n",
    "    WHERE trans_status IN ( '', ' ', 'V', 'R', NULL ) AND `department` NOT IN (0, 15)\n",
    "    GROUP BY date, hour\n",
    "    ORDER BY DATE DESC, hour ASC\n",
    "\"\"\"\n",
    "\n",
    "transactions = pandas_gbq.read_gbq(query,project_id = gbq_proj_id)\n",
    "\n",
    "# transactions.head(12)"
   ]
  },
  {
   "cell_type": "code",
   "execution_count": 36,
   "id": "3e87c773",
   "metadata": {},
   "outputs": [
    {
     "data": {
      "text/html": [
       "<div>\n",
       "<style scoped>\n",
       "    .dataframe tbody tr th:only-of-type {\n",
       "        vertical-align: middle;\n",
       "    }\n",
       "\n",
       "    .dataframe tbody tr th {\n",
       "        vertical-align: top;\n",
       "    }\n",
       "\n",
       "    .dataframe thead th {\n",
       "        text-align: right;\n",
       "    }\n",
       "</style>\n",
       "<table border=\"1\" class=\"dataframe\">\n",
       "  <thead>\n",
       "    <tr style=\"text-align: right;\">\n",
       "      <th></th>\n",
       "      <th>date</th>\n",
       "      <th>hour</th>\n",
       "      <th>spend</th>\n",
       "      <th>trans</th>\n",
       "      <th>items</th>\n",
       "    </tr>\n",
       "  </thead>\n",
       "  <tbody>\n",
       "    <tr>\n",
       "      <th>0</th>\n",
       "      <td>2017-01-31</td>\n",
       "      <td>7</td>\n",
       "      <td>104.77</td>\n",
       "      <td>3</td>\n",
       "      <td>34</td>\n",
       "    </tr>\n",
       "    <tr>\n",
       "      <th>1</th>\n",
       "      <td>2017-01-31</td>\n",
       "      <td>8</td>\n",
       "      <td>1358.84</td>\n",
       "      <td>5</td>\n",
       "      <td>385</td>\n",
       "    </tr>\n",
       "    <tr>\n",
       "      <th>2</th>\n",
       "      <td>2017-01-31</td>\n",
       "      <td>9</td>\n",
       "      <td>2952.24</td>\n",
       "      <td>7</td>\n",
       "      <td>706</td>\n",
       "    </tr>\n",
       "    <tr>\n",
       "      <th>3</th>\n",
       "      <td>2017-01-31</td>\n",
       "      <td>10</td>\n",
       "      <td>4505.90</td>\n",
       "      <td>7</td>\n",
       "      <td>1106</td>\n",
       "    </tr>\n",
       "    <tr>\n",
       "      <th>4</th>\n",
       "      <td>2017-01-31</td>\n",
       "      <td>11</td>\n",
       "      <td>5246.76</td>\n",
       "      <td>8</td>\n",
       "      <td>1309</td>\n",
       "    </tr>\n",
       "    <tr>\n",
       "      <th>5</th>\n",
       "      <td>2017-01-31</td>\n",
       "      <td>12</td>\n",
       "      <td>6160.62</td>\n",
       "      <td>9</td>\n",
       "      <td>1428</td>\n",
       "    </tr>\n",
       "    <tr>\n",
       "      <th>6</th>\n",
       "      <td>2017-01-31</td>\n",
       "      <td>13</td>\n",
       "      <td>5389.13</td>\n",
       "      <td>10</td>\n",
       "      <td>1394</td>\n",
       "    </tr>\n",
       "    <tr>\n",
       "      <th>7</th>\n",
       "      <td>2017-01-31</td>\n",
       "      <td>14</td>\n",
       "      <td>5556.55</td>\n",
       "      <td>9</td>\n",
       "      <td>1416</td>\n",
       "    </tr>\n",
       "    <tr>\n",
       "      <th>8</th>\n",
       "      <td>2017-01-31</td>\n",
       "      <td>15</td>\n",
       "      <td>5843.35</td>\n",
       "      <td>10</td>\n",
       "      <td>1460</td>\n",
       "    </tr>\n",
       "    <tr>\n",
       "      <th>9</th>\n",
       "      <td>2017-01-31</td>\n",
       "      <td>16</td>\n",
       "      <td>5744.47</td>\n",
       "      <td>8</td>\n",
       "      <td>1443</td>\n",
       "    </tr>\n",
       "    <tr>\n",
       "      <th>10</th>\n",
       "      <td>2017-01-31</td>\n",
       "      <td>17</td>\n",
       "      <td>5988.31</td>\n",
       "      <td>9</td>\n",
       "      <td>1540</td>\n",
       "    </tr>\n",
       "    <tr>\n",
       "      <th>11</th>\n",
       "      <td>2017-01-31</td>\n",
       "      <td>18</td>\n",
       "      <td>6992.52</td>\n",
       "      <td>10</td>\n",
       "      <td>1713</td>\n",
       "    </tr>\n",
       "  </tbody>\n",
       "</table>\n",
       "</div>"
      ],
      "text/plain": [
       "          date  hour    spend  trans  items\n",
       "0   2017-01-31     7   104.77      3     34\n",
       "1   2017-01-31     8  1358.84      5    385\n",
       "2   2017-01-31     9  2952.24      7    706\n",
       "3   2017-01-31    10  4505.90      7   1106\n",
       "4   2017-01-31    11  5246.76      8   1309\n",
       "5   2017-01-31    12  6160.62      9   1428\n",
       "6   2017-01-31    13  5389.13     10   1394\n",
       "7   2017-01-31    14  5556.55      9   1416\n",
       "8   2017-01-31    15  5843.35     10   1460\n",
       "9   2017-01-31    16  5744.47      8   1443\n",
       "10  2017-01-31    17  5988.31      9   1540\n",
       "11  2017-01-31    18  6992.52     10   1713"
      ]
     },
     "execution_count": 36,
     "metadata": {},
     "output_type": "execute_result"
    }
   ],
   "source": [
    "# print(transactions.shape)\n",
    "transactions.head(12)"
   ]
  },
  {
   "cell_type": "code",
   "execution_count": 33,
   "id": "5f7672ad",
   "metadata": {},
   "outputs": [
    {
     "data": {
      "text/plain": [
       "39418"
      ]
     },
     "execution_count": 33,
     "metadata": {},
     "output_type": "execute_result"
    }
   ],
   "source": [
    "transactions.to_sql('date_hour', con=conn, if_exists='replace')"
   ]
  },
  {
   "cell_type": "markdown",
   "id": "bfbe726c",
   "metadata": {},
   "source": [
    "2.\tSales by owner by year by month: A file that has the following columns: card_no, year, month, sales, transactions, and items. "
   ]
  },
  {
   "cell_type": "code",
   "execution_count": null,
   "id": "22fd3cef",
   "metadata": {},
   "outputs": [],
   "source": []
  },
  {
   "cell_type": "code",
   "execution_count": 41,
   "id": "a1bf2ed3",
   "metadata": {},
   "outputs": [
    {
     "name": "stderr",
     "output_type": "stream",
     "text": [
      "Downloading: 100%|██████████████████████████████████████████████████████████████████████████████████████████████████████████████| 808896/808896 [00:37<00:00, 21456.39rows/s]\n"
     ]
    }
   ],
   "source": [
    "query = \"\"\"\n",
    "    SELECT `card_no`, \n",
    "       EXTRACT( year FROM datetime ) AS `year`,\n",
    "       EXTRACT( month FROM datetime ) AS `month`,\n",
    "       SUM(total) AS `spend`,\n",
    "       COUNT( DISTINCT\n",
    "          CONCAT(\n",
    "            CAST(EXTRACT(DATE FROM `datetime`) AS STRING), \n",
    "            CAST(`register_no` AS STRING ),\n",
    "            CAST(`emp_no` AS STRING),\n",
    "            CAST(`trans_no` AS STRING)\n",
    "        ) ) AS `trans`,\n",
    "      SUM( CASE WHEN `trans_status` IN ( 'V', 'R' ) THEN -1\n",
    "             ELSE 1 END ) AS items\n",
    "    FROM `bmkt670-fall2022-wedge-project.wedgedataset.transArchive_*`\n",
    "    WHERE trans_status IN ( '', ' ', 'V', 'R', NULL ) AND `department` NOT IN (0, 15)\n",
    "    GROUP BY card_no, year, month\n",
    "    ORDER BY year, month, card_no\n",
    "\"\"\"\n",
    "\n",
    "transactions = pandas_gbq.read_gbq(query,project_id = gbq_proj_id)\n",
    "\n",
    "# transactions.head(12)"
   ]
  },
  {
   "cell_type": "code",
   "execution_count": 44,
   "id": "aff32cb2",
   "metadata": {},
   "outputs": [
    {
     "data": {
      "text/html": [
       "<div>\n",
       "<style scoped>\n",
       "    .dataframe tbody tr th:only-of-type {\n",
       "        vertical-align: middle;\n",
       "    }\n",
       "\n",
       "    .dataframe tbody tr th {\n",
       "        vertical-align: top;\n",
       "    }\n",
       "\n",
       "    .dataframe thead th {\n",
       "        text-align: right;\n",
       "    }\n",
       "</style>\n",
       "<table border=\"1\" class=\"dataframe\">\n",
       "  <thead>\n",
       "    <tr style=\"text-align: right;\">\n",
       "      <th></th>\n",
       "      <th>card_no</th>\n",
       "      <th>year</th>\n",
       "      <th>month</th>\n",
       "      <th>spend</th>\n",
       "      <th>trans</th>\n",
       "      <th>items</th>\n",
       "    </tr>\n",
       "  </thead>\n",
       "  <tbody>\n",
       "    <tr>\n",
       "      <th>0</th>\n",
       "      <td>10001</td>\n",
       "      <td>2010</td>\n",
       "      <td>1</td>\n",
       "      <td>252.92</td>\n",
       "      <td>5</td>\n",
       "      <td>96</td>\n",
       "    </tr>\n",
       "    <tr>\n",
       "      <th>1</th>\n",
       "      <td>10003</td>\n",
       "      <td>2010</td>\n",
       "      <td>1</td>\n",
       "      <td>91.76</td>\n",
       "      <td>1</td>\n",
       "      <td>22</td>\n",
       "    </tr>\n",
       "    <tr>\n",
       "      <th>2</th>\n",
       "      <td>10004</td>\n",
       "      <td>2010</td>\n",
       "      <td>1</td>\n",
       "      <td>62.77</td>\n",
       "      <td>1</td>\n",
       "      <td>5</td>\n",
       "    </tr>\n",
       "    <tr>\n",
       "      <th>3</th>\n",
       "      <td>10006</td>\n",
       "      <td>2010</td>\n",
       "      <td>1</td>\n",
       "      <td>147.71</td>\n",
       "      <td>8</td>\n",
       "      <td>67</td>\n",
       "    </tr>\n",
       "    <tr>\n",
       "      <th>4</th>\n",
       "      <td>10008</td>\n",
       "      <td>2010</td>\n",
       "      <td>1</td>\n",
       "      <td>138.34</td>\n",
       "      <td>3</td>\n",
       "      <td>42</td>\n",
       "    </tr>\n",
       "    <tr>\n",
       "      <th>5</th>\n",
       "      <td>10011</td>\n",
       "      <td>2010</td>\n",
       "      <td>1</td>\n",
       "      <td>377.51</td>\n",
       "      <td>11</td>\n",
       "      <td>121</td>\n",
       "    </tr>\n",
       "    <tr>\n",
       "      <th>6</th>\n",
       "      <td>10012</td>\n",
       "      <td>2010</td>\n",
       "      <td>1</td>\n",
       "      <td>18.97</td>\n",
       "      <td>1</td>\n",
       "      <td>3</td>\n",
       "    </tr>\n",
       "    <tr>\n",
       "      <th>7</th>\n",
       "      <td>10013</td>\n",
       "      <td>2010</td>\n",
       "      <td>1</td>\n",
       "      <td>24.52</td>\n",
       "      <td>1</td>\n",
       "      <td>9</td>\n",
       "    </tr>\n",
       "    <tr>\n",
       "      <th>8</th>\n",
       "      <td>10015</td>\n",
       "      <td>2010</td>\n",
       "      <td>1</td>\n",
       "      <td>30.65</td>\n",
       "      <td>1</td>\n",
       "      <td>7</td>\n",
       "    </tr>\n",
       "    <tr>\n",
       "      <th>9</th>\n",
       "      <td>10016</td>\n",
       "      <td>2010</td>\n",
       "      <td>1</td>\n",
       "      <td>99.94</td>\n",
       "      <td>2</td>\n",
       "      <td>43</td>\n",
       "    </tr>\n",
       "    <tr>\n",
       "      <th>10</th>\n",
       "      <td>10021</td>\n",
       "      <td>2010</td>\n",
       "      <td>1</td>\n",
       "      <td>99.43</td>\n",
       "      <td>7</td>\n",
       "      <td>39</td>\n",
       "    </tr>\n",
       "    <tr>\n",
       "      <th>11</th>\n",
       "      <td>10024</td>\n",
       "      <td>2010</td>\n",
       "      <td>1</td>\n",
       "      <td>64.23</td>\n",
       "      <td>1</td>\n",
       "      <td>19</td>\n",
       "    </tr>\n",
       "  </tbody>\n",
       "</table>\n",
       "</div>"
      ],
      "text/plain": [
       "   card_no  year  month   spend  trans  items\n",
       "0    10001  2010      1  252.92      5     96\n",
       "1    10003  2010      1   91.76      1     22\n",
       "2    10004  2010      1   62.77      1      5\n",
       "3    10006  2010      1  147.71      8     67\n",
       "4    10008  2010      1  138.34      3     42\n",
       "5    10011  2010      1  377.51     11    121\n",
       "6    10012  2010      1   18.97      1      3\n",
       "7    10013  2010      1   24.52      1      9\n",
       "8    10015  2010      1   30.65      1      7\n",
       "9    10016  2010      1   99.94      2     43\n",
       "10   10021  2010      1   99.43      7     39\n",
       "11   10024  2010      1   64.23      1     19"
      ]
     },
     "execution_count": 44,
     "metadata": {},
     "output_type": "execute_result"
    }
   ],
   "source": [
    "# print(transactions.shape)\n",
    "transactions.head(12)"
   ]
  },
  {
   "cell_type": "code",
   "execution_count": 45,
   "id": "9ddadf0c",
   "metadata": {},
   "outputs": [
    {
     "data": {
      "text/plain": [
       "808896"
      ]
     },
     "execution_count": 45,
     "metadata": {},
     "output_type": "execute_result"
    }
   ],
   "source": [
    "transactions.to_sql('owner_spend_date', con=conn, if_exists='replace')"
   ]
  },
  {
   "cell_type": "markdown",
   "id": "e75ed750",
   "metadata": {},
   "source": [
    "3.\tSales by product description by year by month: A file that has the following columns: upc, description, department number, department name, year, month, sales, transactions, and items."
   ]
  },
  {
   "cell_type": "code",
   "execution_count": 46,
   "id": "88d1cdf4",
   "metadata": {},
   "outputs": [
    {
     "name": "stderr",
     "output_type": "stream",
     "text": [
      "Downloading: 100%|████████████████████████████████████████████████████████████████████████████████████████████████████████████| 1090279/1090279 [01:16<00:00, 14160.88rows/s]\n"
     ]
    }
   ],
   "source": [
    "query = \"\"\"\n",
    "    SELECT `upc`,\n",
    "       `description`,\n",
    "       `bmkt670-fall2022-wedge-project.wedgedataset.transArchive_*`.`department`,\n",
    "       `bmkt670-fall2022-wedge-project.wedgedataset.department_lookup`.`dept_name`,\n",
    "       EXTRACT( year FROM datetime ) AS `year`,\n",
    "       EXTRACT( month FROM datetime ) AS `month`,\n",
    "       SUM(total) AS `sales`,\n",
    "       COUNT( DISTINCT\n",
    "          CONCAT(\n",
    "            CAST(EXTRACT(DATE FROM `datetime`) AS STRING), \n",
    "            CAST(`register_no` AS STRING ),\n",
    "            CAST(`emp_no` AS STRING),\n",
    "            CAST(`trans_no` AS STRING)\n",
    "        ) ) AS `trans`,\n",
    "        SUM( CASE WHEN `trans_status` IN ( 'V', 'R' ) THEN -1\n",
    "             ELSE 1 END ) AS `items`\n",
    "    FROM `bmkt670-fall2022-wedge-project.wedgedataset.transArchive_*` \n",
    "    JOIN `bmkt670-fall2022-wedge-project.wedgedataset.department_lookup` ON ( `bmkt670-fall2022-wedge-project.wedgedataset.transArchive_*` .`department` = CAST( `bmkt670-fall2022-wedge-project.wedgedataset.department_lookup`.`department` AS INT ) )\n",
    "    WHERE trans_status IN ( '', ' ')\n",
    "    AND `trans_type` = \"I\"\n",
    "    GROUP BY `upc`, `description`, `department`, `dept_name`, `year`, `month`\n",
    "    ORDER BY `year` ASC, `month` ASC\n",
    "\"\"\"\n",
    "\n",
    "transactions = pandas_gbq.read_gbq(query,project_id = gbq_proj_id)\n",
    "\n",
    "# transactions.head(12)"
   ]
  },
  {
   "cell_type": "code",
   "execution_count": 47,
   "id": "34569663",
   "metadata": {},
   "outputs": [
    {
     "data": {
      "text/html": [
       "<div>\n",
       "<style scoped>\n",
       "    .dataframe tbody tr th:only-of-type {\n",
       "        vertical-align: middle;\n",
       "    }\n",
       "\n",
       "    .dataframe tbody tr th {\n",
       "        vertical-align: top;\n",
       "    }\n",
       "\n",
       "    .dataframe thead th {\n",
       "        text-align: right;\n",
       "    }\n",
       "</style>\n",
       "<table border=\"1\" class=\"dataframe\">\n",
       "  <thead>\n",
       "    <tr style=\"text-align: right;\">\n",
       "      <th></th>\n",
       "      <th>upc</th>\n",
       "      <th>description</th>\n",
       "      <th>department</th>\n",
       "      <th>dept_name</th>\n",
       "      <th>year</th>\n",
       "      <th>month</th>\n",
       "      <th>sales</th>\n",
       "      <th>trans</th>\n",
       "      <th>items</th>\n",
       "    </tr>\n",
       "  </thead>\n",
       "  <tbody>\n",
       "    <tr>\n",
       "      <th>0</th>\n",
       "      <td>0070587510017</td>\n",
       "      <td>O.Eve.Primrose Oil 60ct Barl</td>\n",
       "      <td>10</td>\n",
       "      <td>SUPPLEMENTS</td>\n",
       "      <td>2010</td>\n",
       "      <td>1</td>\n",
       "      <td>67.96</td>\n",
       "      <td>4</td>\n",
       "      <td>4</td>\n",
       "    </tr>\n",
       "    <tr>\n",
       "      <th>1</th>\n",
       "      <td>0005165109291</td>\n",
       "      <td>O.Creamy Pnut Butter 26oz Mar</td>\n",
       "      <td>1</td>\n",
       "      <td>PACKAGED GROCERY</td>\n",
       "      <td>2010</td>\n",
       "      <td>1</td>\n",
       "      <td>654.82</td>\n",
       "      <td>63</td>\n",
       "      <td>98</td>\n",
       "    </tr>\n",
       "    <tr>\n",
       "      <th>2</th>\n",
       "      <td>0009232533354</td>\n",
       "      <td>O.Oil&amp;Vinegar Dressing 8oz An</td>\n",
       "      <td>1</td>\n",
       "      <td>PACKAGED GROCERY</td>\n",
       "      <td>2010</td>\n",
       "      <td>1</td>\n",
       "      <td>46.67</td>\n",
       "      <td>13</td>\n",
       "      <td>13</td>\n",
       "    </tr>\n",
       "    <tr>\n",
       "      <th>3</th>\n",
       "      <td>0087894100074</td>\n",
       "      <td>Orange CoQ10 4oz TrM</td>\n",
       "      <td>10</td>\n",
       "      <td>SUPPLEMENTS</td>\n",
       "      <td>2010</td>\n",
       "      <td>1</td>\n",
       "      <td>59.98</td>\n",
       "      <td>2</td>\n",
       "      <td>2</td>\n",
       "    </tr>\n",
       "  </tbody>\n",
       "</table>\n",
       "</div>"
      ],
      "text/plain": [
       "             upc                    description  department         dept_name  \\\n",
       "0  0070587510017   O.Eve.Primrose Oil 60ct Barl          10       SUPPLEMENTS   \n",
       "1  0005165109291  O.Creamy Pnut Butter 26oz Mar           1  PACKAGED GROCERY   \n",
       "2  0009232533354  O.Oil&Vinegar Dressing 8oz An           1  PACKAGED GROCERY   \n",
       "3  0087894100074           Orange CoQ10 4oz TrM          10       SUPPLEMENTS   \n",
       "\n",
       "   year  month   sales  trans  items  \n",
       "0  2010      1   67.96      4      4  \n",
       "1  2010      1  654.82     63     98  \n",
       "2  2010      1   46.67     13     13  \n",
       "3  2010      1   59.98      2      2  "
      ]
     },
     "execution_count": 47,
     "metadata": {},
     "output_type": "execute_result"
    }
   ],
   "source": [
    "# print(transactions.shape)\n",
    "transactions.head(4)"
   ]
  },
  {
   "cell_type": "code",
   "execution_count": 48,
   "id": "06c65011",
   "metadata": {},
   "outputs": [
    {
     "data": {
      "text/plain": [
       "1090279"
      ]
     },
     "execution_count": 48,
     "metadata": {},
     "output_type": "execute_result"
    }
   ],
   "source": [
    "transactions.to_sql('product_date', con=conn, if_exists='replace')"
   ]
  },
  {
   "cell_type": "markdown",
   "id": "41f2b7fa",
   "metadata": {},
   "source": [
    "## Write CSV"
   ]
  },
  {
   "cell_type": "code",
   "execution_count": null,
   "id": "db6c7667",
   "metadata": {},
   "outputs": [],
   "source": [
    "transactions.to_csv(working_directory + csv_file_name, index=False)"
   ]
  },
  {
   "cell_type": "code",
   "execution_count": null,
   "id": "f527ad0d",
   "metadata": {},
   "outputs": [],
   "source": [
    "display_file_contents( csv_file_name )"
   ]
  },
  {
   "cell_type": "markdown",
   "id": "55a81304",
   "metadata": {},
   "source": [
    "# Cleanup ALL Local Files"
   ]
  },
  {
   "cell_type": "code",
   "execution_count": 21,
   "id": "02d4ccdb",
   "metadata": {},
   "outputs": [
    {
     "name": "stdout",
     "output_type": "stream",
     "text": [
      "Done Cleanup\n",
      "Completed Exit Code 0\n"
     ]
    }
   ],
   "source": [
    "# https://linuxize.com/post/python-delete-files-and-directories/\n",
    "try:\n",
    "    # shutil.rmtree(working_directory)\n",
    "    conn.close()\n",
    "    print('Done Cleanup')\n",
    "    print(\"Completed Exit Code 0\")\n",
    "except OSError as e:\n",
    "    print(\"Error: %s : %s\" % (working_directory, e.strerror))\n",
    "    print(\"Completed Exit Code -1\")\n"
   ]
  }
 ],
 "metadata": {
  "kernelspec": {
   "display_name": "Python 3 (ipykernel)",
   "language": "python",
   "name": "python3"
  },
  "language_info": {
   "codemirror_mode": {
    "name": "ipython",
    "version": 3
   },
   "file_extension": ".py",
   "mimetype": "text/x-python",
   "name": "python",
   "nbconvert_exporter": "python",
   "pygments_lexer": "ipython3",
   "version": "3.9.2"
  }
 },
 "nbformat": 4,
 "nbformat_minor": 5
}
