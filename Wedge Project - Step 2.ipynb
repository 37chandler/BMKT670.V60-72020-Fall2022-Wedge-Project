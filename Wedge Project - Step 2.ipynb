{
 "cells": [
  {
   "cell_type": "markdown",
   "id": "00bf0d7e",
   "metadata": {},
   "source": [
    "# The Wedge\n",
    "\n",
    "## Task 1: Building a Transaction Database in Google Big Query!\n"
   ]
  },
  {
   "cell_type": "markdown",
   "id": "4e19c439",
   "metadata": {},
   "source": [
    "## Python Modules"
   ]
  },
  {
   "cell_type": "code",
   "execution_count": 12,
   "id": "55d8424a",
   "metadata": {},
   "outputs": [],
   "source": [
    "import os\n",
    "import io\n",
    "import shutil\n",
    "import re\n",
    "import datetime \n",
    "import csv\n",
    "\n",
    "import pandas as pd\n",
    "import numpy as np\n",
    "import pandas_gbq\n",
    "import janitor\n",
    "\n",
    "from zipfile import ZipFile # usually you'd do all these imports at the beginning\n",
    "\n",
    "# Do our imports for the code\n",
    "from google.cloud import bigquery\n",
    "from google.oauth2 import service_account\n",
    "\n",
    "# Python program to illustrate the concept\n",
    "# of threading\n",
    "# importing the threading module\n",
    "import threading\n",
    "import time\n",
    "\n",
    "from multiprocessing.pool import ThreadPool as Pool\n",
    "\n",
    "import multiprocessing\n",
    "\n",
    "import enum"
   ]
  },
  {
   "cell_type": "markdown",
   "id": "cee09c70",
   "metadata": {},
   "source": [
    "## Define Global Variables"
   ]
  },
  {
   "cell_type": "code",
   "execution_count": 2,
   "id": "79cf01be",
   "metadata": {},
   "outputs": [],
   "source": [
    "# # Small File Sample\n",
    "# zip_file_name = \"WedgeZipOfZips_Small.zip\"\n",
    "\n",
    "## Full data Set\n",
    "zip_file_name = \"WedgeZipOfZips.zip\"\n",
    "\n",
    "# Clean data Set\n",
    "# zip_file_name = \"WedgeFiles_Clean.zip\"\n",
    "\n",
    "# Small Clean Data Set\n",
    "# zip_file_name = \"WedgeZipOfZips_Small_Clean.zip\"\n",
    "\n",
    "# CSV File Name\n",
    "csv_file_name = \"sample_transactions.csv\"\n",
    "\n",
    "# Working Directory included in .gitignore\n",
    "# working_directory = \"/media/psf/Home/Repos/BMKT670.V60-72020-Fall2022-Wedge-Project/eggs/\"\n",
    "working_directory = \"/home/blackvwgolf95/BMKT670.V60-72020-Fall2022-Wedge-Project/eggs/\""
   ]
  },
  {
   "cell_type": "markdown",
   "id": "d6314070",
   "metadata": {},
   "source": [
    "## Define Functions"
   ]
  },
  {
   "cell_type": "code",
   "execution_count": 47,
   "id": "4479d9ce",
   "metadata": {},
   "outputs": [],
   "source": [
    "def display_file_contents(file_name):\n",
    "    # Ignore __MACOSX hidden files\n",
    "    if(file_name.startswith( '__' )):\n",
    "        return\n",
    "    # Ignore folders\n",
    "    if(file_name.endswith( '/' )):\n",
    "        return\n",
    "\n",
    "    print(\"File: \", file_name,\n",
    "          \" Size:\", os.path.getsize(working_directory+file_name), \n",
    "          \"Bytes \", convert_unit(os.path.getsize(working_directory+file_name), SIZE_UNIT.MB ), \"MB\" )\n",
    "    \n",
    "#https://thispointer.com/python-get-file-size-in-kb-mb-or-gb-human-readable-format/\n",
    "# Enum for size units\n",
    "class SIZE_UNIT(enum.Enum):\n",
    "   BYTES = 1\n",
    "   KB = 2\n",
    "   MB = 3\n",
    "   GB = 4\n",
    "def convert_unit(size_in_bytes, unit):\n",
    "   \"\"\" Convert the size from bytes to other units like KB, MB or GB\"\"\"\n",
    "   if unit == SIZE_UNIT.KB:\n",
    "       return size_in_bytes/1024\n",
    "   elif unit == SIZE_UNIT.MB:\n",
    "       return size_in_bytes/(1024*1024)\n",
    "   elif unit == SIZE_UNIT.GB:\n",
    "       return size_in_bytes/(1024*1024*1024)\n",
    "   else:\n",
    "       return size_in_bytes"
   ]
  },
  {
   "cell_type": "markdown",
   "id": "97e933c8",
   "metadata": {},
   "source": [
    "## GBQ Setup"
   ]
  },
  {
   "cell_type": "code",
   "execution_count": 5,
   "id": "fe5a19ea",
   "metadata": {},
   "outputs": [],
   "source": [
    "# These first two values will be different on your machine. \n",
    "# service_path = \"/Users/chandler/Dropbox/Teaching/\"\n",
    "# service_file = 'umt-msba-037daf11ee16.json' # change this to your authentication information  \n",
    "# gbq_proj_id = 'umt-msba' # change this to your project. \n",
    "# service_path = \"/media/psf/Home/Repos/\"\n",
    "service_path = \"/home/blackvwgolf95/\"\n",
    "service_file = 'bmkt670-fall2022-wedge-project-6ce4398b80e4.json' # change this to your authentication information  \n",
    "gbq_proj_id = 'bmkt670-fall2022-wedge-project' # change this to your project. \n",
    "dataset_id = 'wedgedataset'\n",
    "\n",
    "# And this should stay the same. \n",
    "private_key = service_path + service_file\n",
    "\n",
    "# Now we pass in our credentials so that Python has permission to access our project.\n",
    "credentials = service_account.Credentials.from_service_account_file(service_path + service_file)\n",
    "\n",
    "# And finally we establish our connection\n",
    "client = bigquery.Client(credentials = credentials, project=gbq_proj_id)\n",
    "\n",
    "# for item in client.list_datasets() : \n",
    "#    print(item.full_dataset_id)"
   ]
  },
  {
   "cell_type": "markdown",
   "id": "273d2145",
   "metadata": {},
   "source": [
    "## Phase 2, Query DB"
   ]
  },
  {
   "cell_type": "code",
   "execution_count": 37,
   "id": "b4169947",
   "metadata": {},
   "outputs": [
    {
     "name": "stderr",
     "output_type": "stream",
     "text": [
      "Downloading: 100%|█████████████████████████████████████████████████████████████████████████████████████████████████████████████| 1091937/1091937 [05:06<00:00, 3564.91rows/s]\n"
     ]
    }
   ],
   "source": [
    "query = \"\"\"\n",
    "    SELECT * FROM `bmkt670-fall2022-wedge-project.wedgedataset.transArchive_*`\n",
    "    WHERE `card_no` IN (\n",
    "      SELECT `card_no` FROM `bmkt670-fall2022-wedge-project.wedgedataset.transArchive_*` -- TABLESAMPLE SYSTEM (1 PERCENT) \n",
    "      WHERE `card_no` NOT IN ( '3' )\n",
    "      ORDER BY RAND()\n",
    "      LIMIT 8\n",
    "    )\n",
    "\"\"\"\n",
    "\n",
    "transactions = pandas_gbq.read_gbq(query,project_id = gbq_proj_id)\n",
    "\n",
    "# transactions.head(12)"
   ]
  },
  {
   "cell_type": "code",
   "execution_count": 40,
   "id": "cb83ecec",
   "metadata": {},
   "outputs": [],
   "source": [
    "# print(transactions.shape)"
   ]
  },
  {
   "cell_type": "markdown",
   "id": "5c4a077f",
   "metadata": {},
   "source": [
    "## Write CSV"
   ]
  },
  {
   "cell_type": "code",
   "execution_count": 38,
   "id": "ed50f06e",
   "metadata": {},
   "outputs": [],
   "source": [
    "transactions.to_csv(working_directory + csv_file_name, index=False)"
   ]
  },
  {
   "cell_type": "code",
   "execution_count": 48,
   "id": "9ae15df5",
   "metadata": {},
   "outputs": [
    {
     "name": "stdout",
     "output_type": "stream",
     "text": [
      "File:  sample_transactions.csv  Size: 220668087 Bytes  210.4454870223999 MB\n"
     ]
    }
   ],
   "source": [
    "display_file_contents( csv_file_name )"
   ]
  },
  {
   "cell_type": "markdown",
   "id": "55a81304",
   "metadata": {},
   "source": [
    "# Cleanup ALL Local Files"
   ]
  },
  {
   "cell_type": "code",
   "execution_count": null,
   "id": "02d4ccdb",
   "metadata": {},
   "outputs": [],
   "source": [
    "# https://linuxize.com/post/python-delete-files-and-directories/\n",
    "try:\n",
    "    # shutil.rmtree(working_directory)\n",
    "    print('Done Cleanup')\n",
    "    print(\"Completed Exit Code 0\")\n",
    "except OSError as e:\n",
    "    print(\"Error: %s : %s\" % (working_directory, e.strerror))\n",
    "    print(\"Completed Exit Code -1\")\n"
   ]
  }
 ],
 "metadata": {
  "kernelspec": {
   "display_name": "Python 3 (ipykernel)",
   "language": "python",
   "name": "python3"
  },
  "language_info": {
   "codemirror_mode": {
    "name": "ipython",
    "version": 3
   },
   "file_extension": ".py",
   "mimetype": "text/x-python",
   "name": "python",
   "nbconvert_exporter": "python",
   "pygments_lexer": "ipython3",
   "version": "3.9.2"
  }
 },
 "nbformat": 4,
 "nbformat_minor": 5
}
